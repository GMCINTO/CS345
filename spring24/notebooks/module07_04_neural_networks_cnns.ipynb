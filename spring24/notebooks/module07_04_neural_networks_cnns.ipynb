{
  "cells": [
    {
      "cell_type": "markdown",
      "metadata": {
        "id": "view-in-github",
        "colab_type": "text"
      },
      "source": [
        "<a href=\"https://colab.research.google.com/github/sarathsreedharan/CS345/blob/master/spring24/notebooks/module07_04_neural_networks_cnns.ipynb\" target=\"_parent\"><img src=\"https://colab.research.google.com/assets/colab-badge.svg\" alt=\"Open In Colab\"/></a>"
      ]
    },
    {
      "cell_type": "markdown",
      "metadata": {
        "id": "YLc88PolBdjQ"
      },
      "source": [
        "*This notebook is based on course materials for CS 345: Machine Learning Foundations and Practice at Colorado State University.\n",
        "Original versions were created by Ben Sattelberg and Asa Ben-Hur.\n",
        "The content is availabe [on GitHub](https://github.com/asabenhur/CS345).*\n",
        "\n",
        "*The text is released under the [CC BY-SA license](https://creativecommons.org/licenses/by-sa/4.0/), and code is released under the [MIT license](https://opensource.org/licenses/MIT).*"
      ]
    },
    {
      "cell_type": "markdown",
      "metadata": {
        "id": "cbn44I91BdjR"
      },
      "source": [
        "# Neural networks: convolutional networks\n",
        "\n",
        "### Preface:  enabling GPUs on google colab\n",
        "\n",
        "Until now we ran our neural networks on a CPU.  If you are running this notebook on google colab, you are in luck - google colab will allow you to run your code on a GPU.  Enabling a GPU is very simple:  All you need to do is navigate to Edit→Notebook Settings and select GPU from the Hardware Accelerator drop-down.\n",
        "This [colab notebook](https://colab.research.google.com/notebooks/gpu.ipynb) has instructions for verifying that you are using a GPU and see the resulting speedup.\n"
      ]
    },
    {
      "cell_type": "code",
      "execution_count": 1,
      "metadata": {
        "id": "6_xv3us4BdjS"
      },
      "outputs": [],
      "source": [
        "import numpy as np\n",
        "import tensorflow as tf\n",
        "import scipy.signal\n",
        "import matplotlib.pyplot as plt"
      ]
    },
    {
      "cell_type": "markdown",
      "metadata": {
        "id": "AusLiLuBBdjT"
      },
      "source": [
        "## Let's read some data"
      ]
    },
    {
      "cell_type": "code",
      "execution_count": 2,
      "metadata": {
        "id": "OPKBDwQOBdjT",
        "colab": {
          "base_uri": "https://localhost:8080/"
        },
        "outputId": "d8f95f76-d745-4176-ca17-249531af7976"
      },
      "outputs": [
        {
          "output_type": "stream",
          "name": "stdout",
          "text": [
            "Downloading data from https://storage.googleapis.com/tensorflow/tf-keras-datasets/train-labels-idx1-ubyte.gz\n",
            "29515/29515 [==============================] - 0s 0us/step\n",
            "Downloading data from https://storage.googleapis.com/tensorflow/tf-keras-datasets/train-images-idx3-ubyte.gz\n",
            "26421880/26421880 [==============================] - 0s 0us/step\n",
            "Downloading data from https://storage.googleapis.com/tensorflow/tf-keras-datasets/t10k-labels-idx1-ubyte.gz\n",
            "5148/5148 [==============================] - 0s 0us/step\n",
            "Downloading data from https://storage.googleapis.com/tensorflow/tf-keras-datasets/t10k-images-idx3-ubyte.gz\n",
            "4422102/4422102 [==============================] - 0s 0us/step\n"
          ]
        }
      ],
      "source": [
        "tf.keras.datasets.fashion_mnist.load_data()\n",
        "# This will download to ~/.keras/datasets/\n",
        "(X_train, y_train), (X_test, y_test) = tf.keras.datasets.fashion_mnist.load_data()\n",
        "\n",
        "X_train = X_train.astype('float32')\n",
        "X_test = X_test.astype('float32')\n",
        "\n",
        "X_train = X_train.reshape(-1, 28, 28, 1)\n",
        "X_test = X_test.reshape(-1, 28, 28, 1)\n",
        "\n",
        "X_train /= 255\n",
        "X_test /= 255\n",
        "\n",
        "y_train_one_hot = tf.keras.utils.to_categorical(y_train, 10)\n",
        "y_test_one_hot = tf.keras.utils.to_categorical(y_test, 10)"
      ]
    },
    {
      "cell_type": "code",
      "execution_count": 3,
      "metadata": {
        "id": "mgGFvGaOBdjT",
        "colab": {
          "base_uri": "https://localhost:8080/"
        },
        "outputId": "034dc2d2-fd60-4458-cf33-c7544b764223"
      },
      "outputs": [
        {
          "output_type": "stream",
          "name": "stdout",
          "text": [
            "Downloading data from https://storage.googleapis.com/tensorflow/tf-keras-datasets/mnist.npz\n",
            "11490434/11490434 [==============================] - 0s 0us/step\n"
          ]
        }
      ],
      "source": [
        "# This will download an 11.5 MB file to ~/.keras/datasets/\n",
        "(X_train, y_train), (X_test, y_test) = tf.keras.datasets.mnist.load_data()\n",
        "\n",
        "X_train = X_train.astype('float32')\n",
        "X_test = X_test.astype('float32')\n",
        "\n",
        "X_train = X_train.reshape(-1, 28, 28, 1)\n",
        "X_test = X_test.reshape(-1, 28, 28, 1)\n",
        "\n",
        "X_train /= 255\n",
        "X_test /= 255\n",
        "\n",
        "y_train_one_hot = tf.keras.utils.to_categorical(y_train, 10)\n",
        "y_test_one_hot = tf.keras.utils.to_categorical(y_test, 10)"
      ]
    },
    {
      "cell_type": "markdown",
      "metadata": {
        "id": "qnAa1TvfBdjT"
      },
      "source": [
        "## Convolutional Neural Networks"
      ]
    },
    {
      "cell_type": "markdown",
      "metadata": {
        "id": "Byj2JrHQBdjT"
      },
      "source": [
        "Previously, we had identified two main issues with fully connected networks on image tasks:\n",
        "1. Unreasonable number of parameters - trillions of parameters may be necessary\n",
        "2. Any exploitation of the structure of images must be learned entirely by the network.\n",
        "\n",
        "The second problem here is not necessarily impossible to overcome, but the first is.  To reduce the number of parameters, we will look at \"convolutional layers,\" which exploit the nature of images to provide more structured learning.  Exploiting the structure of images based loosely on the human vision system is how we will construct these layers.\n",
        "\n",
        "<img style=\"width:50%;\" alt=\"A simplified schema of the human visual pathway by Miquel Perello Nieteo CC BY-SA 4.0\" src=\"https://upload.wikimedia.org/wikipedia/commons/b/bf/Human_visual_pathway.svg\">\n",
        "\n",
        "Convolutional layers are (somewhat loosely) inspired by human vision systems, specifically the lateral geniculate nucleus (LGN) and the visual cortex.  In the above image, everything from the visual field to the LGN can be considered as the \"input\" to the network that the LGN and visual cortex form.  Since there are two eyes, this is somewhat analagous to an ensemble of two networks running on slightly different inputs.\n",
        "\n",
        "Both the LGN and visual cortex are split into a number of \"layers\" which perform various processing tasks while passing information from the optic nerve through.  For example, the visual cortex is split into six parts - V1 through V6.  V1, the primary visual cortex, identifies edges and lines in what is being viewed while preserving their relative locations in the image. That information is passed to deeper layers in the visual cortex.  [Biological Inspirations of Convolutional Neural Network](https://medium.com/@gopalkalpande/biological-inspiration-of-convolutional-neural-network-cnn-9419668898ac) and [Visual system](https://en.wikipedia.org/wiki/Visual_system) go more into depth on what those biological systems do."
      ]
    },
    {
      "cell_type": "markdown",
      "metadata": {
        "id": "dPgOw6MVBdjT"
      },
      "source": [
        "Let's walk through how we can identify edges in images mathematically.  We'll start by looking at two images where identifying vertical or horizontal edges could help with classification:"
      ]
    },
    {
      "cell_type": "code",
      "execution_count": 4,
      "metadata": {
        "id": "pcZk6lNuBdjT",
        "outputId": "c8607a94-f90a-44d3-ac42-fe99236675c1",
        "colab": {
          "base_uri": "https://localhost:8080/",
          "height": 459
        }
      },
      "outputs": [
        {
          "output_type": "display_data",
          "data": {
            "text/plain": [
              "<Figure size 1200x800 with 2 Axes>"
            ],
            "image/png": "[encoded data removed]"
          },
          "metadata": {}
        }
      ],
      "source": [
        "fig = plt.figure(figsize=(12,8))\n",
        "ax = fig.add_subplot(121)\n",
        "ax2 = fig.add_subplot(122)\n",
        "\n",
        "ax.imshow(X_train[2, :, :].reshape(28,28), cmap='Greys')\n",
        "ax.axis('off')\n",
        "\n",
        "ax2.imshow(X_train[8, :, :].reshape(28,28), cmap='Greys')\n",
        "ax2.axis('off');"
      ]
    },
    {
      "cell_type": "markdown",
      "metadata": {
        "id": "er398M1LBdjT"
      },
      "source": [
        "We can identify the edges with a \"filter\" that we \"convolve\" over the image - we basically take a small matrix of numbers, and then for every pixel in the image we calculate the result of overlaying the matrix at that pixel.  In the below animation, the set of blue blocks are the input image, the darker blue region is where the filter is being applied, and the gray blocks are the output."
      ]
    },
    {
      "cell_type": "markdown",
      "metadata": {
        "id": "n80fOsSwBdjU"
      },
      "source": [
        "<img style=\"width:50%;\" alt=\"Convolution example by Irhum Shafkat available at https://towardsdatascience.com/intuitively-understanding-convolutions-for-deep-learning-1f6f42faee1\" src=\"https://miro.medium.com/max/700/1*Fw-ehcNBR9byHtho-Rxbtw.gif\">"
      ]
    },
    {
      "cell_type": "markdown",
      "metadata": {
        "id": "8h0qghiQBdjU"
      },
      "source": [
        "The [Towards Data Science article by Irhum Shafkat](https://towardsdatascience.com/intuitively-understanding-convolutions-for-deep-learning-1f6f42faee1) from which this image is used is also a useful resource for learning about convolution, and goes into more detail than this notebook does about certain aspects of them.  The paper [A Guide to Convolution Arithmetic for Deep Learning by Vincent Dumoulin and Frencesco Visin](https://github.com/vdumoulin/conv_arithmetic) and its associated GitHub repository may also be a useful resource, although the paper is somewhat involved."
      ]
    },
    {
      "cell_type": "markdown",
      "metadata": {
        "id": "KTeJ_LsIBdjU"
      },
      "source": [
        "If we apply the filter\n",
        "$$ \\begin{bmatrix} 1 & 2 & 1 \\\\ 0 & 0 & 0 \\\\ -1 & -2 & -1 \\end{bmatrix} $$\n",
        "to the one and the four using this convolution structure, we get:"
      ]
    },
    {
      "cell_type": "code",
      "execution_count": 5,
      "metadata": {
        "id": "6YoefFjiBdjU",
        "outputId": "f0bcffdb-6903-4071-d279-c0644a047399",
        "colab": {
          "base_uri": "https://localhost:8080/",
          "height": 653
        }
      },
      "outputs": [
        {
          "output_type": "display_data",
          "data": {
            "text/plain": [
              "<Figure size 1200x800 with 3 Axes>"
            ],
            "image/png": "[encoded data removed]"
          },
          "metadata": {}
        }
      ],
      "source": [
        "fig = plt.figure(figsize=(12,8))\n",
        "ax = fig.add_subplot(121)\n",
        "ax2 = fig.add_subplot(122)\n",
        "\n",
        "conv_result = scipy.signal.convolve2d(X_train[2, :, :].reshape(28, 28), np.array([[1,2,1],[0,0,0],[-1,-2,-1]]))\n",
        "ax.imshow(conv_result, cmap='Greys')\n",
        "ax.axis('off')\n",
        "\n",
        "conv_result = scipy.signal.convolve2d(X_train[8, :, :].reshape(28, 28), np.array([[1,2,1],[0,0,0],[-1,-2,-1]]))\n",
        "im = ax2.imshow(conv_result, cmap='Greys')\n",
        "ax2.axis('off')\n",
        "fig.colorbar(im, ax=[ax, ax2]);"
      ]
    },
    {
      "cell_type": "markdown",
      "metadata": {
        "id": "ina7L_cgBdjU"
      },
      "source": [
        "Here edges are represented by values with high magnitude, negative or positive, which correspond to the white and black pixels.  If we look for vertical edges (with the transpose of the horizontal edge matrix), we get"
      ]
    },
    {
      "cell_type": "code",
      "execution_count": 6,
      "metadata": {
        "id": "exGFwyTLBdjU",
        "outputId": "a200ecbf-9f54-47c7-8368-0f2283653e12",
        "colab": {
          "base_uri": "https://localhost:8080/",
          "height": 653
        }
      },
      "outputs": [
        {
          "output_type": "display_data",
          "data": {
            "text/plain": [
              "<Figure size 1200x800 with 3 Axes>"
            ],
            "image/png": "[encoded data removed]"
          },
          "metadata": {}
        }
      ],
      "source": [
        "fig = plt.figure(figsize=(12,8))\n",
        "ax = fig.add_subplot(121)\n",
        "ax2 = fig.add_subplot(122)\n",
        "\n",
        "conv_result = scipy.signal.convolve2d(X_train[2, :, :].reshape(28, 28), np.array([[1,2,1],[0,0,0],[-1,-2,-1]]).T)\n",
        "ax.imshow(conv_result, cmap='Greys')\n",
        "ax.axis('off')\n",
        "\n",
        "conv_result = scipy.signal.convolve2d(X_train[8, :, :].reshape(28, 28), np.array([[1,2,1],[0,0,0],[-1,-2,-1]]).T)\n",
        "ax2.imshow(conv_result, cmap='Greys')\n",
        "ax2.axis('off')\n",
        "fig.colorbar(im, ax=[ax, ax2]);"
      ]
    },
    {
      "cell_type": "markdown",
      "source": [
        "Fancier example\n",
        "\n",
        "\n",
        "<img style=\"width:25%;\" src=\"https://github.com/sarathsreedharan/CS345/blob/master/spring24/notebooks/Images/deep_learning_filter.png?raw=true\"></img>"
      ],
      "metadata": {
        "id": "fg_oYJXL3eP8"
      }
    },
    {
      "cell_type": "markdown",
      "metadata": {
        "id": "5jtGkd-mBdjU"
      },
      "source": [
        "This isn't *exactly* the method one would use for calculating edges in practice, partially due to the arbitrary sign issue, but it still gives an example of what convolutions do and how they can find potentially meaningful features.\n",
        "\n",
        "There are two other notes to make:\n",
        "* One of these filters only has nine parameters, but interacts with the entire image.  Using multiple filters can give us a number of meaningful features while using relatively few parameters.\n",
        "* This exploits the local structure of the image to create useful features.  Because the same filter is used everywhere, we don't need to worry about finding a fully constructed structure that will give us edge detection no matter where on the image we look - that happens for free.  Converting this to a \"fully connected\" layer in a neural network would require 784 nodes (really 900 - see next point).\n",
        "* Behavior on boundaries is important to keep in mind to avoid size issues.  As shown in the animation of convolutions, applying the 3x3 filter to every location that it doesn't run off the edge of the image, it will shrink by one pixel on each side, resulting in a 26x26 image for MNIST.  However, if we look at the size of one of the images resulting from the convolutions we calculated,"
      ]
    },
    {
      "cell_type": "code",
      "execution_count": 7,
      "metadata": {
        "id": "7LKhv5EwBdjU",
        "outputId": "28a3443b-0924-44c2-e7ac-2958f93a8055",
        "colab": {
          "base_uri": "https://localhost:8080/"
        }
      },
      "outputs": [
        {
          "output_type": "execute_result",
          "data": {
            "text/plain": [
              "(30, 30)"
            ]
          },
          "metadata": {},
          "execution_count": 7
        }
      ],
      "source": [
        "conv_result.shape"
      ]
    },
    {
      "cell_type": "markdown",
      "metadata": {
        "id": "XqNOxJd0BdjU"
      },
      "source": [
        "it's not 28x28 or 26x26 - it's 30x30.  The signal subpackage from SciPy defaults to adding \"padding\" around the input image.  If a single \"pixel\" of padding is added for a 3x3 filter, we end up with an output that is the same size as the input, as shown in the figure below:"
      ]
    },
    {
      "cell_type": "markdown",
      "metadata": {
        "id": "fwUYzqegBdjU"
      },
      "source": [
        "<img style=\"width:50%;\" alt=\"Convolution padding example by Irhum Shafkat available at https://towardsdatascience.com/intuitively-understanding-convolutions-for-deep-learning-1f6f42faee1\" src=\"https://miro.medium.com/max/395/1*1okwhewf5KCtIPaFib4XaA.gif\">"
      ]
    },
    {
      "cell_type": "markdown",
      "metadata": {
        "id": "wgqysRwJBdjU"
      },
      "source": [
        "There are a few methods for determining what value a padding \"pixel\" has - the three most common are looping around the edges, extending the adjacent pixel, and setting the value to zero.  Of those, zero padding is the most common."
      ]
    },
    {
      "cell_type": "markdown",
      "metadata": {
        "id": "kuMjT2gUBdjU"
      },
      "source": [
        "SciPy defaults to *two* pixels of padding on each edge, which results in one pixel being added to each edge of the output.  Keras, however, defaults to having no padding.  The amount of padding necessary to maintain the input image size also changes based on the size of the filter - a 3x3 filter needs one pixel of padding, but a 5x5 filter would need two pixels of padding."
      ]
    },
    {
      "cell_type": "markdown",
      "metadata": {
        "id": "bs0pYV-zBdjU"
      },
      "source": [
        "In addition to padding, convolutional layers also have a stride parameter.  This parameter controls how far the filter moves along the original image when generating the output:"
      ]
    },
    {
      "cell_type": "markdown",
      "metadata": {
        "id": "PBI9pZ4xBdjV"
      },
      "source": [
        "<img style=\"width:50%;\" alt=\"Strides by Vincent Dumoulin and Frencesco Visin https://github.com/vdumoulin/conv_arithmetic\" src=\"https://raw.githubusercontent.com/vdumoulin/conv_arithmetic/master/gif/padding_strides.gif\">"
      ]
    },
    {
      "cell_type": "markdown",
      "metadata": {
        "id": "lscvqWkEBdjV"
      },
      "source": [
        "The above stride is two, rather than the default one from earlier images, and effectively \"halves\" the size of the input image in each dimension.  This result in subsampling of the image, which helps to reduce the amount of data (and therefore the number of parameters) passed through the network.\n",
        "\n",
        "Another form of subsampling is pooling, where the image is downsampled according to some algorithm.  One common method of doing this is max-pooling, where the maximum value in some region is passed as the value for the corresponding pixel in the output:"
      ]
    },
    {
      "cell_type": "markdown",
      "metadata": {
        "id": "TAdCaKyrBdjV"
      },
      "source": [
        "<img style=\"width:50%;\" alt=\"Max Pooling by Aphex34 CC BY-SA 4.0 https://en.wikipedia.org/wiki/File:Max_pooling.png\" src=\"https://upload.wikimedia.org/wikipedia/commons/e/e9/Max_pooling.png\">"
      ]
    },
    {
      "cell_type": "markdown",
      "metadata": {
        "id": "jUsXsy8OBdjV"
      },
      "source": [
        "## Translational Equivariance vs Transalational Variance\n",
        "Equivariance means roughly if input changes the output changes the same way\n",
        "f(g(x)) = g(f(x))\n",
        "\n",
        "Convolution exhibits translations equivariance -- If you shift the pixels by one unit by right and then apply convolutions, it would be same as applying convolution and then shifting right by one\n",
        "\n",
        "\n",
        "Changing the location of a set of neighboring pixels will create the same representation but just shifted This means that moving an object around in the image will result in the same features to appear but at the corresponding position\n",
        "\n",
        "Also, images naturally lends itself to translational invariance. If we moved a seven in one of our images to the right slightly, we would still want it to be classified in the same way. Max pooling can also give local translational invariance.\n",
        "\n",
        "\n",
        "Traditional fully connected networks have no method for explicitly learning to do this (although convolutions can help during the training process), but max pooling gives that invariance for free in the \"receptive fields\" of later layers - the region of pixels in the original image that influence the value of a pixel in a later layer.\n",
        "\n",
        "\n",
        "### Receptive Field\n",
        "\n",
        "Portion of the input that affect the activation of a neuron In CNN while the receptive field of neurons at lower layers are small, neurons that are in the deeper layers have a larger receptive field\n",
        "\n",
        "<img style=\"width:50%;\" src=\"https://github.com/sarathsreedharan/CS345/blob/master/spring24/notebooks/ReceptiveField.png?raw=true\"> </img>\n",
        "\n",
        "\n",
        "---\n",
        "\n",
        "The \"typical\" convolutional neural network (CNN) structure is to have repeated convolutional and pooling layers, although a number of variations on this structure exist."
      ]
    },
    {
      "cell_type": "markdown",
      "metadata": {
        "id": "0dTLXLWNBdjV"
      },
      "source": [
        "<img style=\"width:50%;\" alt=\"Max Pooling by Aphex34 CC BY-SA 4.0 https://en.wikipedia.org/wiki/File:Typical_cnn.png\" src=\"https://upload.wikimedia.org/wikipedia/commons/6/63/Typical_cnn.png\">"
      ]
    },
    {
      "cell_type": "markdown",
      "metadata": {
        "id": "_k6myG1cBdjV"
      },
      "source": [
        "The outputs of convolutional layers are often referred to as \"features,\" as they describe abstract features of the original image.\n",
        "\n",
        "With all of that theory, we can now construct a CNN for MNIST.  We'll start with a `Sequential` network, as we've been using, with a convolutional layer:"
      ]
    },
    {
      "cell_type": "code",
      "execution_count": 8,
      "metadata": {
        "id": "gl_U0YKsBdjV"
      },
      "outputs": [],
      "source": [
        "conv_network = tf.keras.Sequential()\n",
        "conv_network.add(tf.keras.layers.Conv2D(32, (3, 3), strides=(2,2), activation='relu', input_shape=(28,28,1)))"
      ]
    },
    {
      "cell_type": "markdown",
      "metadata": {
        "id": "Za0iWUTdBdjV"
      },
      "source": [
        "This convolutional layer has 32 3x3 filters with ReLU activiations and no padding.  It also expects 28x28 pixel images with a single \"channel.\"  The stride component of this layer will also roughly half the size of the output from that of the input.  The net result of this layer will be a 13x13 32 channel \"image\" (one channel for each filter).  \n",
        "\n",
        "We use strides here rather than max pooling as strides result in faster computation (although for MNIST proper max pooling can slightly increase accuracy.\n",
        "\n",
        "The next thing we do is the exact same layer:"
      ]
    },
    {
      "cell_type": "code",
      "execution_count": 9,
      "metadata": {
        "id": "iWd7IsuVBdjV"
      },
      "outputs": [],
      "source": [
        "conv_network.add(tf.keras.layers.Conv2D(32, (3, 3), strides=(2,2), activation='relu'))"
      ]
    },
    {
      "cell_type": "markdown",
      "metadata": {
        "id": "LjRT8Bh2BdjV"
      },
      "source": [
        "This will result in a 6x6 32 channel image.  We repeat this a third time:"
      ]
    },
    {
      "cell_type": "code",
      "execution_count": 10,
      "metadata": {
        "id": "3zZ5WDBcBdjV"
      },
      "outputs": [],
      "source": [
        "conv_network.add(tf.keras.layers.Conv2D(32, (3, 3), strides=(2,2), activation='relu'))"
      ]
    },
    {
      "cell_type": "markdown",
      "metadata": {
        "id": "jB0UHyd8BdjV"
      },
      "source": [
        "The convolution will shrink the images to 2x2 32 channel images.  One note to make about channels is that when a convolutional filter is applied to a multi-channel input, it's evaluated for each channel and the results are summed to calculate the value at a given pixel.\n",
        "\n",
        "Next, we want to have a dense layer before the final classification, so we must \"flatten\" the image to an 128=2\\*2\\*32 dimensional vector:"
      ]
    },
    {
      "cell_type": "code",
      "execution_count": 11,
      "metadata": {
        "id": "RQGdQt5DBdjV"
      },
      "outputs": [],
      "source": [
        "conv_network.add(tf.keras.layers.Flatten())"
      ]
    },
    {
      "cell_type": "markdown",
      "metadata": {
        "id": "nTla8K2zBdjV"
      },
      "source": [
        "After that, we'll apply the same network structure we had for the fully connected network:"
      ]
    },
    {
      "cell_type": "code",
      "execution_count": 12,
      "metadata": {
        "id": "JtvOHtaVBdjV"
      },
      "outputs": [],
      "source": [
        "conv_network.add(tf.keras.layers.Dense(100, activation='relu'))\n",
        "conv_network.add(tf.keras.layers.Dense(10, activation='softmax'))"
      ]
    },
    {
      "cell_type": "markdown",
      "metadata": {
        "id": "kpp7xpG9Bdja"
      },
      "source": [
        "### Back to the network"
      ]
    },
    {
      "cell_type": "markdown",
      "metadata": {
        "id": "osAOp6_5Bdja"
      },
      "source": [
        "### Question\n",
        "Given this network structure, with multiple convolutional layers before the same dense layer we saw previously, do you expect it to have (roughly)\n",
        "1. Half the parameters than the fully connected network\n",
        "2. The same number of parameters as the fully connected network\n",
        "3. Double the number of parameters of the fully connected network\n",
        "4. 10x more parameters than the fully connected network\n",
        "5. 100x more parameters than the fully connected network"
      ]
    },
    {
      "cell_type": "markdown",
      "metadata": {
        "id": "2maZLiVwBdja"
      },
      "source": [
        "Now that we have the network setup, we can train it.  Each epoch will take longer than the fully connected network due to the complexity of the calculations that must be done."
      ]
    },
    {
      "cell_type": "code",
      "execution_count": 13,
      "metadata": {
        "scrolled": true,
        "id": "r2qGpa04Bdja",
        "outputId": "4209e291-ac8d-48ba-d56b-6bf36d25ec25",
        "colab": {
          "base_uri": "https://localhost:8080/"
        }
      },
      "outputs": [
        {
          "output_type": "stream",
          "name": "stdout",
          "text": [
            "Epoch 1/10\n",
            "600/600 [==============================] - 9s 6ms/step - loss: 0.3556 - accuracy: 0.8959 - val_loss: 0.1315 - val_accuracy: 0.9593\n",
            "Epoch 2/10\n",
            "600/600 [==============================] - 3s 4ms/step - loss: 0.1084 - accuracy: 0.9684 - val_loss: 0.0857 - val_accuracy: 0.9727\n",
            "Epoch 3/10\n",
            "600/600 [==============================] - 2s 4ms/step - loss: 0.0756 - accuracy: 0.9766 - val_loss: 0.0664 - val_accuracy: 0.9795\n",
            "Epoch 4/10\n",
            "600/600 [==============================] - 3s 4ms/step - loss: 0.0584 - accuracy: 0.9822 - val_loss: 0.0660 - val_accuracy: 0.9792\n",
            "Epoch 5/10\n",
            "600/600 [==============================] - 3s 5ms/step - loss: 0.0492 - accuracy: 0.9847 - val_loss: 0.0513 - val_accuracy: 0.9834\n",
            "Epoch 6/10\n",
            "600/600 [==============================] - 3s 5ms/step - loss: 0.0405 - accuracy: 0.9871 - val_loss: 0.0479 - val_accuracy: 0.9840\n",
            "Epoch 7/10\n",
            "600/600 [==============================] - 3s 4ms/step - loss: 0.0351 - accuracy: 0.9887 - val_loss: 0.0493 - val_accuracy: 0.9835\n",
            "Epoch 8/10\n",
            "600/600 [==============================] - 3s 4ms/step - loss: 0.0311 - accuracy: 0.9902 - val_loss: 0.0426 - val_accuracy: 0.9870\n",
            "Epoch 9/10\n",
            "600/600 [==============================] - 3s 4ms/step - loss: 0.0262 - accuracy: 0.9914 - val_loss: 0.0464 - val_accuracy: 0.9858\n",
            "Epoch 10/10\n",
            "600/600 [==============================] - 3s 5ms/step - loss: 0.0231 - accuracy: 0.9922 - val_loss: 0.0539 - val_accuracy: 0.9838\n"
          ]
        }
      ],
      "source": [
        "loss_fn = tf.keras.losses.CategoricalCrossentropy()\n",
        "opt = tf.keras.optimizers.Adam()\n",
        "\n",
        "conv_network.compile(loss=loss_fn, optimizer=opt, metrics=['accuracy'])\n",
        "history_conv = conv_network.fit(X_train, y_train_one_hot,\n",
        "                                validation_data = (X_test, y_test_one_hot),\n",
        "                                batch_size=100, epochs=10, verbose=1)"
      ]
    },
    {
      "cell_type": "code",
      "execution_count": 14,
      "metadata": {
        "id": "D3DgfQTiBdjb",
        "outputId": "77321c97-197d-4b7e-ab32-37b8b351810e",
        "colab": {
          "base_uri": "https://localhost:8080/"
        }
      },
      "outputs": [
        {
          "output_type": "stream",
          "name": "stdout",
          "text": [
            "Final loss: 0.0539, test accuracy: 0.9838\n"
          ]
        }
      ],
      "source": [
        "print('Final loss: {}, test accuracy: {}'.format(*map(lambda x: round(x, 4), conv_network.evaluate(X_test, y_test_one_hot, verbose=0))))"
      ]
    },
    {
      "cell_type": "markdown",
      "metadata": {
        "id": "uoxC1qw_Bdjb"
      },
      "source": [
        "We can also look at the summary, which confirms the size of the output of each layer:"
      ]
    },
    {
      "cell_type": "code",
      "execution_count": 15,
      "metadata": {
        "id": "sv_Hm2O9Bdjb",
        "outputId": "c9787f53-7a62-4d2e-e198-f380d482515c",
        "colab": {
          "base_uri": "https://localhost:8080/"
        }
      },
      "outputs": [
        {
          "output_type": "stream",
          "name": "stdout",
          "text": [
            "Model: \"sequential\"\n",
            "_________________________________________________________________\n",
            " Layer (type)                Output Shape              Param #   \n",
            "=================================================================\n",
            " conv2d (Conv2D)             (None, 13, 13, 32)        320       \n",
            "                                                                 \n",
            " conv2d_1 (Conv2D)           (None, 6, 6, 32)          9248      \n",
            "                                                                 \n",
            " conv2d_2 (Conv2D)           (None, 2, 2, 32)          9248      \n",
            "                                                                 \n",
            " flatten (Flatten)           (None, 128)               0         \n",
            "                                                                 \n",
            " dense (Dense)               (None, 100)               12900     \n",
            "                                                                 \n",
            " dense_1 (Dense)             (None, 10)                1010      \n",
            "                                                                 \n",
            "=================================================================\n",
            "Total params: 32726 (127.84 KB)\n",
            "Trainable params: 32726 (127.84 KB)\n",
            "Non-trainable params: 0 (0.00 Byte)\n",
            "_________________________________________________________________\n"
          ]
        }
      ],
      "source": [
        "conv_network.summary()"
      ]
    },
    {
      "cell_type": "markdown",
      "metadata": {
        "id": "k5RZlw23Bdjb"
      },
      "source": [
        "We also see that this network has half the parameters of the fully connected network, despite its increased representational complexity."
      ]
    },
    {
      "cell_type": "code",
      "execution_count": 16,
      "metadata": {
        "id": "I3PGG1tIBdjb",
        "outputId": "4e18903c-5f77-4e96-b20e-05af2a54014b",
        "colab": {
          "base_uri": "https://localhost:8080/",
          "height": 455
        }
      },
      "outputs": [
        {
          "output_type": "display_data",
          "data": {
            "text/plain": [
              "<Figure size 640x480 with 1 Axes>"
            ],
            "image/png": "[encoded data removed]"
          },
          "metadata": {}
        }
      ],
      "source": [
        "plt.plot(history_conv.history['accuracy'], label='Train')\n",
        "plt.plot(history_conv.history['val_accuracy'], label='Test')\n",
        "plt.xlabel('Epoch')\n",
        "plt.ylabel('Accuracy')\n",
        "plt.legend()\n",
        "plt.ylim([0.85, 1]);"
      ]
    },
    {
      "cell_type": "markdown",
      "metadata": {
        "id": "BPu5W5LWBdjb"
      },
      "source": [
        "This network trains to a good solution very quickly (when reading this plot, note that there are half as many epochs total as the previous networks due to the increased training time) and ends with slightly more than 98.5% accuracy on the test set, an increase over the fully connected network's 97.5%.\n",
        "\n",
        "This may not seem like a significant increase over the fully connected network, but there are two points that make it impressive:\n",
        "1. This network requires half as many parameters\n",
        "2. Raw percentages are useful, but don't tell the whole story.  Increasing from 50% to 75% accuracy is a raw increase of 25%, and halves the error rate from 50% to 25%.  Increasing from 98% to 99% is a raw increase of 1%, but it also halves the error rate from 2% to 1%.  In general, as the accuracy increases, increasing it further becomes more difficult and can be suprisingly beneficial."
      ]
    },
    {
      "cell_type": "markdown",
      "metadata": {
        "id": "uQW5FY-ZBdjb"
      },
      "source": [
        "Let's also look at a few of the images the network misclassifies:"
      ]
    },
    {
      "cell_type": "code",
      "execution_count": 17,
      "metadata": {
        "id": "4XcjE5LNBdjb",
        "outputId": "0fe967b0-da5f-4f65-edf7-5cb973a018cc",
        "colab": {
          "base_uri": "https://localhost:8080/",
          "height": 846
        }
      },
      "outputs": [
        {
          "output_type": "stream",
          "name": "stdout",
          "text": [
            "313/313 [==============================] - 1s 2ms/step\n"
          ]
        },
        {
          "output_type": "display_data",
          "data": {
            "text/plain": [
              "<Figure size 1000x1000 with 25 Axes>"
            ],
            "image/png": "[encoded data removed]"
          },
          "metadata": {}
        }
      ],
      "source": [
        "pred = np.argmax(conv_network.predict(X_test), axis=1)\n",
        "incorrect_bool_array = y_test != pred\n",
        "\n",
        "y_test_incorrect = y_test[incorrect_bool_array]\n",
        "X_test_incorrect = X_test[incorrect_bool_array]\n",
        "pred_incorrect = pred[incorrect_bool_array]\n",
        "\n",
        "fig, axes = plt.subplots(5, 5, figsize=(10,10))\n",
        "\n",
        "for i in range(5):\n",
        "    for j in range(5):\n",
        "        axes[i,j].imshow(X_test_incorrect[i*5 + j, :, :].reshape(28,28), cmap='Greys')\n",
        "        axes[i,j].set_title('true: {}, pred: {}'.format(y_test_incorrect[i*5+j], pred_incorrect[i*5+j]))\n",
        "        axes[i,j].axis('off')"
      ]
    },
    {
      "cell_type": "markdown",
      "metadata": {
        "id": "-RLsKMVoBdjb"
      },
      "source": [
        "There are genuine mistakes in this set of images, but there are also images that for various reasons, such as poor cropping or poor handwriting, are difficult to classify.  Something that is not uncommon is datasets having a certain amount of label noise.  For example, in one image classification dataset, there are \"lemon,\" \"orange,\" and \"bowl\" classifications, and an image of lemons and oranges in a bowl has a \"true\" classification that is only one of the three."
      ]
    },
    {
      "cell_type": "markdown",
      "metadata": {
        "id": "LbCLCLkqBdjb"
      },
      "source": [
        "### Exercise\n",
        "\n",
        "Construct a network that achieves higher than 99% accuracy within ten epochs. Max pooling may be useful for this over using strides in every layer, and a max pooling layer can be added using\n",
        "\n",
        "```conv_network.add(keras.layers.MaxPooling2D(pool_size=(2,2)))```"
      ]
    },
    {
      "cell_type": "markdown",
      "metadata": {
        "id": "oF-kUymaBdjb"
      },
      "source": [
        "### Comments\n",
        "* In this notebook we provided some intuition into what the networks are doing.  With the high input dimension and complexity of these networks, that kind of analysis is now significantly more difficult.  However, there are resources that provide visualizations of what certain parts of the network are doing - [The Building Blocks of Interpretability](https://distill.pub/2018/building-blocks/) is one such resource that provides an interactive analysis of some features.  The host website ([distill.pub](https://distill.pub)) is also a good resource for learning about complex topics in neural networks."
      ]
    }
  ],
  "metadata": {
    "kernelspec": {
      "display_name": "Python 3",
      "name": "python3"
    },
    "language_info": {
      "codemirror_mode": {
        "name": "ipython",
        "version": 3
      },
      "file_extension": ".py",
      "mimetype": "text/x-python",
      "name": "python",
      "nbconvert_exporter": "python",
      "pygments_lexer": "ipython3",
      "version": "3.10.9"
    },
    "colab": {
      "provenance": [],
      "gpuType": "T4",
      "include_colab_link": true
    },
    "accelerator": "GPU"
  },
  "nbformat": 4,
  "nbformat_minor": 0
}