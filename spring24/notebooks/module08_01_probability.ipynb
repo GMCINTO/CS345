{
  "cells": [
    {
      "cell_type": "markdown",
      "metadata": {
        "id": "view-in-github",
        "colab_type": "text"
      },
      "source": [
        "<a href=\"https://colab.research.google.com/github/sarathsreedharan/CS345/blob/master/spring24/notebooks/module08_01_probability.ipynb\" target=\"_parent\"><img src=\"https://colab.research.google.com/assets/colab-badge.svg\" alt=\"Open In Colab\"/></a>"
      ]
    },
    {
      "cell_type": "markdown",
      "metadata": {
        "id": "hIQc2hpQ4PNo"
      },
      "source": [
        "*This notebook is part of  course materials for CS 345: Machine Learning Foundations and Practice at Colorado State University.\n",
        "Original versions were created by Asa Ben-Hur.\n",
        "The content is availabe [on GitHub](https://github.com/asabenhur/CS345).*\n",
        "\n",
        "*The text is released under the [CC BY-SA license](https://creativecommons.org/licenses/by-sa/4.0/), and code is released under the [MIT license](https://opensource.org/licenses/MIT).*\n",
        "\n"
      ]
    },
    {
      "cell_type": "code",
      "execution_count": 2,
      "metadata": {
        "colab": {
          "base_uri": "https://localhost:8080/",
          "height": 34
        },
        "id": "NIRcxs8v4PNm",
        "outputId": "a731c76e-101a-4d2f-c9e1-6ba5a02483f1"
      },
      "outputs": [
        {
          "output_type": "display_data",
          "data": {
            "application/javascript": [
              "IPython.notebook.set_autosave_interval(0)"
            ]
          },
          "metadata": {}
        },
        {
          "output_type": "stream",
          "name": "stdout",
          "text": [
            "Autosave disabled\n"
          ]
        }
      ],
      "source": [
        "import numpy as np\n",
        "from matplotlib import pyplot as plt\n",
        "%matplotlib inline\n",
        "%autosave 0"
      ]
    },
    {
      "cell_type": "markdown",
      "metadata": {
        "id": "1Q07JDPD4PNq"
      },
      "source": [
        "# A primer in probability\n",
        "\n",
        "Because of the inherent uncertainty and noise in observations of the real world, probability theory plays an important role in machine learning.  This notebook serves as a brief reminder of some of the important concepts.\n",
        "\n",
        "Probability is a mathematical framework for expressing uncertainty about the outcome of events.  \n",
        "We often encode this uncertainty in a variable, called a **random variable**.  A Random variable is a variable whose possible values are the possible outcomes of a random phenomenon.\n",
        "\n",
        "**Example.**  the outcome of a coin toss or a roll of a die.\n",
        "\n",
        "The possible outcomes of a random variable $X$, e.g. one that models a coin toss are represented with the notation:\n",
        "\n",
        "$$\n",
        "p(X = \\mathrm{heads}) = 0.5\n",
        "$$\n",
        "\n",
        "**Definition.**\n",
        "The probabilities of all possible values that a random variable can take are its **distribution**.  For a coin toss it is the numbers\n",
        "\n",
        "$$\n",
        "p(X = \\mathrm{heads}) = 0.5,~ p(X = \\mathrm{tails}) = 0.5\n",
        "$$\n",
        "\n",
        "As a shorthand, we often use the notation $p(\\mathrm{heads})$ instead of $p(X = \\mathrm{heads})$.\n",
        "\n",
        "The sum of the probability of all events must equal 1.\n",
        "So if the probability of heads is 0.5, then the probability of tails (the only other possible outcome) is given by\n",
        "\n",
        "$$\n",
        "p(X = \\mathrm{tails}) = 1 − p(X = \\mathrm{heads}) = 0.5\n",
        "$$\n",
        "\n",
        "More generally, if a random variable takes on the values $x_i$, then we have that\n",
        "\n",
        "$$\n",
        "\\sum_{i}^{}p(x_i)=1\n",
        "$$\n",
        "\n",
        "For example in our coin toss example:"
      ]
    },
    {
      "cell_type": "code",
      "execution_count": 3,
      "metadata": {
        "colab": {
          "base_uri": "https://localhost:8080/"
        },
        "id": "XToq1Gsx4PNq",
        "outputId": "6ba034a0-81d7-489a-e70b-97d6fde7790d"
      },
      "outputs": [
        {
          "output_type": "execute_result",
          "data": {
            "text/plain": [
              "1.0"
            ]
          },
          "metadata": {},
          "execution_count": 3
        }
      ],
      "source": [
        "# random variable that describes the outcome of a toin toss\n",
        "p={'heads':0.5,'tails':0.5}\n",
        "\n",
        "sum(p.values())"
      ]
    },
    {
      "cell_type": "markdown",
      "metadata": {
        "id": "PQEKz1gf4PNr"
      },
      "source": [
        "**Example.**  Rolling a die.  Each value has a probability of 1/6.\n",
        "\n",
        "We can simulate a roll of a die using Numpy:"
      ]
    },
    {
      "cell_type": "code",
      "execution_count": 4,
      "metadata": {
        "colab": {
          "base_uri": "https://localhost:8080/"
        },
        "id": "V0tk-MJT4PNr",
        "outputId": "43d3e32e-3ef9-4e99-aa3d-2a6c71a08301"
      },
      "outputs": [
        {
          "output_type": "execute_result",
          "data": {
            "text/plain": [
              "4"
            ]
          },
          "metadata": {},
          "execution_count": 4
        }
      ],
      "source": [
        "rng = np.random.default_rng()\n",
        "rng.integers(1, 7)"
      ]
    },
    {
      "cell_type": "markdown",
      "metadata": {
        "id": "jgaeOlgk4PNr"
      },
      "source": [
        "By simulating the die many times we can estimate those probabilities.  We can observe that the estimates become better with increasing number of tries:"
      ]
    },
    {
      "cell_type": "code",
      "execution_count": 5,
      "metadata": {
        "id": "pqMLOsgN4PNr"
      },
      "outputs": [],
      "source": [
        "few_rolls  = rng.integers(1,7,size=100)\n",
        "many_rolls = rng.integers(1,7,size=1000000)"
      ]
    },
    {
      "cell_type": "code",
      "execution_count": 6,
      "metadata": {
        "colab": {
          "base_uri": "https://localhost:8080/",
          "height": 296
        },
        "id": "mIXwmTS04PNr",
        "outputId": "e7d2a297-018d-4078-e418-76efe417dc12"
      },
      "outputs": [
        {
          "output_type": "display_data",
          "data": {
            "text/plain": [
              "<Figure size 800x300 with 2 Axes>"
            ],
            "image/png": "[encoded data removed]"
          },
          "metadata": {}
        }
      ],
      "source": [
        "few_counts  = np.histogram(few_rolls,  bins=np.arange(.5, 7.5))[0]\n",
        "many_counts = np.histogram(many_rolls, bins=np.arange(.5, 7.5))[0]\n",
        "\n",
        "fig, (ax1, ax2) = plt.subplots(1,2,figsize=(8,3))\n",
        "ax1.bar(np.arange(1,7), few_counts)\n",
        "ax2.bar(np.arange(1,7), many_counts);\n"
      ]
    },
    {
      "cell_type": "markdown",
      "metadata": {
        "id": "qYRV9kXR4PNr"
      },
      "source": [
        "### Joint probability distribution\n",
        "\n",
        "The joint probability distribution for two variables $X,Y$ is a table whose entries are $p(x_i,y_j)$.\n",
        "\n",
        "In the case of binary variables, the joint probability distribution is a $2\\times2$ table.\n",
        "\n",
        "**Example.**  Two coin tosses.\n",
        "The joint probability distribution for two random variables can be represented as a table that lists the probabilities for each pair of events.  In our coin tosses examples we have following table:\n",
        "\n",
        "\n",
        "| Toss              | Toss2 = heads | Toss2 = tails |\n",
        "| :-----------------|:-------------:| :------------:|\n",
        "| **Toss1 = heads** |     0.25      |       0.25    |\n",
        "| **Toss1 = tail**  |     0.25      |       0.25    |\n",
        "\n",
        "This holds true, because all possible outcomes are equally likely."
      ]
    },
    {
      "cell_type": "markdown",
      "metadata": {
        "id": "VCr6bOtp4PNs"
      },
      "source": [
        "### Marginal probability\n",
        "\n",
        "We compute the marginal probability by summing over all variables we are not interested in:\n",
        "\n",
        "$$ p(x)=\\sum_{j}^{}p(x,y_j) $$\n",
        "\n",
        "We can compute the marginal for our coin toss example:\n",
        "\n",
        "| Toss              | Toss2 = heads    | Toss2 = tails | Marginal |\n",
        "| :-------------|:-------------:| :----------:| :------------: |\n",
        "| **Toss1 = heads** | 0.25 | 0.25 | 0.50 |\n",
        "| **Toss1 = tail**  | 0.25      |   0.25 | 0.50 |\n",
        "| **Marginal** |  0.50  | 0.50  |  1.0 |\n",
        "\n",
        "### Conditional probability\n",
        "\n",
        "The conditional probability of $Y$ given $X$ is defined by:\n",
        "\n",
        "$$p(y|x)=\\frac{p(y,x)}{p(x)}$$\n",
        "\n",
        "\n",
        "### The product rule\n",
        "\n",
        "The product rule is a direct consequence of the definition of conditional probability:\n",
        "\n",
        "$$ p(x,y)=p(y|x)p(x) $$\n",
        "\n",
        "### Independence\n",
        "\n",
        "Random variables $X$ and $Y$ are independent if $p(y|x) = p(y)$ for all values $x$ of $X$ and all values $y$ of $Y$.\n",
        "\n",
        "Plugging this into the product rule, we obtain that two variables are independent if $p(x,y) = p(x) p(y)$."
      ]
    },
    {
      "cell_type": "markdown",
      "metadata": {
        "id": "HP-HRcyS4PNs"
      },
      "source": [
        "**Example.**  Let's revisit our coin toss example, which is has the following table:\n",
        "\n",
        "| Toss              | Toss2 = heads | Toss2 = tails |\n",
        "| :-----------------|:-------------:| :------------:|\n",
        "| **Toss1 = heads** |     0.25      |       0.25    |\n",
        "| **Toss1 = tail**  |     0.25      |       0.25    |\n",
        "\n",
        "Since the coin tosses are independent, each element in the table is the product of the individual probabilities."
      ]
    },
    {
      "cell_type": "markdown",
      "metadata": {
        "id": "ZQ8DI8CY4PNs"
      },
      "source": [
        "**Example**.  Consider the following game of dice:  Roll a die four times.  If a six comes up one or more times, I win.  What is the probability that I win?\n",
        "This game is famously attributed to [Chevalier de Méré](https://en.wikipedia.org/wiki/Antoine_Gombaud), who from his experience, found this to be a lucrative game.  However, he did not know just how likely he is to win.  He asked the famous mathematician Blaise Pascal for help.\n",
        "\n",
        "First let us simulate this game in Numpy (no for loops!)"
      ]
    },
    {
      "cell_type": "code",
      "execution_count": 7,
      "metadata": {
        "colab": {
          "base_uri": "https://localhost:8080/"
        },
        "id": "EaJT3Ivx4PNs",
        "outputId": "df767624-2313-4619-abde-1d38bedd6879"
      },
      "outputs": [
        {
          "output_type": "stream",
          "name": "stdout",
          "text": [
            "fraction of games won:  0.51855\n"
          ]
        }
      ],
      "source": [
        "num_games = 100000\n",
        "rng = np.random.default_rng()\n",
        "rolls = rng.integers(1, 7, size=(num_games, 4))\n",
        "sixes_per_game = (rolls==6).sum(axis=1)\n",
        "print('fraction of games won: ', np.sum(sixes_per_game >= 1)/num_games)"
      ]
    },
    {
      "cell_type": "markdown",
      "metadata": {
        "id": "nSdMY43U4PNs"
      },
      "source": [
        "We can compare this to the analytical solution to the problem:  the four rolls are independent, therefore the probability of not getting a six in all four rolls is $(5/6)^4$.  The event of interest, is its complement, with a probability of $1-(5/6)^4$.  Let's compare the resulting number with our simulation:"
      ]
    },
    {
      "cell_type": "code",
      "execution_count": 8,
      "metadata": {
        "colab": {
          "base_uri": "https://localhost:8080/"
        },
        "id": "pg3hEsDA4PNs",
        "outputId": "d813eccc-ec81-42e4-9317-d31bd5d895a3"
      },
      "outputs": [
        {
          "output_type": "execute_result",
          "data": {
            "text/plain": [
              "0.5177469135802468"
            ]
          },
          "metadata": {},
          "execution_count": 8
        }
      ],
      "source": [
        "1-(5/6)**4"
      ]
    },
    {
      "cell_type": "markdown",
      "metadata": {
        "id": "WN05TkQK4PNs"
      },
      "source": [
        "**Example:** weather in two nearby cities (based on an example from [machinelearningmastery.com](https://machinelearningmastery.com/how-to-calculate-joint-marginal-and-conditional-probability/)).\n",
        "\n",
        "As a more interesting example, let's consider weather in two cities that are a not so far from each other.  The weather (sunny/cloudy/rainy) in each city is not indepedent of the weather in the other.  Suppose the joint probability distribution is the following (constructed, say out of observations of the weather across 20 days):\n",
        "\n",
        "\n",
        "| Weather       | w2=Sunny  | w2=Cloudy | w2=Rainy |\n",
        "| :-------------|:---------:| :--------:| :-------:|\n",
        "| **w1=Sunny**  |   6/20    |   2/20    |   0/20   |\n",
        "| **w1=Cloudy** |   1/20    |   5/20    |   2/20   |\n",
        "| **w1=Rainy**  |   0/20    |   1/20    |   3/20   |\n",
        "\n",
        "We can add to this table the marginal probabilities:\n",
        "\n",
        "\n",
        "| Weather       | w2=Sunny  | w2=Cloudy | w2=Rainy | Marginal    |\n",
        "| :-------------|:---------:| :--------:| :-------:| :----------:|\n",
        "| **w1=Sunny**  |   6/20    |   2/20    |   0/20   |  8/20       |\n",
        "| **w1=Cloudy** |   1/20    |   5/20    |   2/20   |  8/20       |\n",
        "| **w1=Rainy**  |   0/20    |   1/20    |   3/20   |  4/20       |\n",
        "| **Marginal**  |   7/20    |   8/20    |   5/20   |  20/20      |\n",
        "\n",
        "\n",
        "Now let's compute probability of it being sunny in city 2, given that it is sunny in city 1.\n",
        "\n",
        "$$\n",
        "p(\\mathrm{w1}=\\mathrm{sunny} | \\mathrm{w2}=\\mathrm{sunny}) = \\frac{p(\\mathrm{w1}=\\mathrm{sunny}, \\mathrm{w2}=\\mathrm{sunny})}{p(\\mathrm{w2}=\\mathrm{sunny})} = \\frac{6/20}{7/20} = 6/7\n",
        "$$\n",
        "\n",
        "Compare that to $p(\\mathrm{w1}=\\mathrm{sunny}) = 8/20$.  This illustrates that knowing that city 2 is sunny makes it much more likely that city 1 is also sunny.  These events are clearly not independent!\n",
        "\n"
      ]
    },
    {
      "cell_type": "markdown",
      "metadata": {
        "id": "oEIJFZqW4PNs"
      },
      "source": [
        "### Continuous probability distributions\n",
        "\n",
        "\n",
        "Continuous random variables can take on any real number.  The canonical example is the Gaussian (aka normal) distribution.  The standard normal distribution (mean equal to zero and standard deviation equal to 1) has the following probability distribution function:\n",
        "\n",
        "$$f(x) = \\frac{1}{\\sqrt{2 \\pi}}e^{-x^2/2}$$\n",
        "\n",
        "Let's simulate that in Numpy:"
      ]
    },
    {
      "cell_type": "code",
      "execution_count": 9,
      "metadata": {
        "colab": {
          "base_uri": "https://localhost:8080/",
          "height": 430
        },
        "id": "BdC4qUiu4PNt",
        "outputId": "ae8f9de6-49a7-4248-e7d0-98d27df3cdd2"
      },
      "outputs": [
        {
          "output_type": "display_data",
          "data": {
            "text/plain": [
              "<Figure size 640x480 with 1 Axes>"
            ],
            "image/png": "[encoded data removed]"
          },
          "metadata": {}
        }
      ],
      "source": [
        "sample = rng.standard_normal(size=(10000,))\n",
        "plt.hist(sample, 100, density=True, alpha=0.5);\n",
        "\n",
        "x = np.linspace(-4, 4, 1000)\n",
        "normal = (1/np.sqrt(2*np.pi))*np.exp(-x**2/2)\n",
        "plt.plot(x,normal, label=r'$\\frac{1}{\\sqrt{2 \\pi}}e^{-x^2/2}$');\n",
        "plt.legend(fontsize='16');"
      ]
    },
    {
      "cell_type": "code",
      "execution_count": 9,
      "metadata": {
        "id": "nBrMMXiw4PNt"
      },
      "outputs": [],
      "source": []
    }
  ],
  "metadata": {
    "kernelspec": {
      "display_name": "Python 3",
      "language": "python",
      "name": "python3"
    },
    "language_info": {
      "codemirror_mode": {
        "name": "ipython",
        "version": 3
      },
      "file_extension": ".py",
      "mimetype": "text/x-python",
      "name": "python",
      "nbconvert_exporter": "python",
      "pygments_lexer": "ipython3",
      "version": "3.7.6"
    },
    "colab": {
      "provenance": [],
      "include_colab_link": true
    }
  },
  "nbformat": 4,
  "nbformat_minor": 0
}