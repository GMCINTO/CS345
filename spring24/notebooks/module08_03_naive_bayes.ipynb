{
  "cells": [
    {
      "cell_type": "markdown",
      "metadata": {
        "id": "view-in-github",
        "colab_type": "text"
      },
      "source": [
        "<a href=\"https://colab.research.google.com/github/sarathsreedharan/CS345/blob/master/spring24/notebooks/module08_03_naive_bayes.ipynb\" target=\"_parent\"><img src=\"https://colab.research.google.com/assets/colab-badge.svg\" alt=\"Open In Colab\"/></a>"
      ]
    },
    {
      "cell_type": "markdown",
      "metadata": {
        "id": "o_AmB_blXyMc"
      },
      "source": [
        "*This notebook is part of  course materials for CS 345: Machine Learning Foundations and Practice at Colorado State University.\n",
        "Original versions were created by Asa Ben-Hur.\n",
        "The content is availabe [on GitHub](https://github.com/asabenhur/CS345).*\n",
        "\n",
        "*The text is released under the [CC BY-SA license](https://creativecommons.org/licenses/by-sa/4.0/), and code is released under the [MIT license](https://opensource.org/licenses/MIT).*\n",
        "\n",
        "<img style=\"padding: 10px; float:right;\" alt=\"CC-BY-SA icon.svg in public domain\" src=\"https://upload.wikimedia.org/wikipedia/commons/d/d0/CC-BY-SA_icon.svg\" width=\"125\">\n"
      ]
    },
    {
      "cell_type": "code",
      "execution_count": 1,
      "metadata": {
        "id": "xUxsp0kjXyMe",
        "outputId": "e26dcf04-5e86-4e84-aea2-7e6bbc6709d8",
        "colab": {
          "base_uri": "https://localhost:8080/",
          "height": 34
        }
      },
      "outputs": [
        {
          "output_type": "display_data",
          "data": {
            "application/javascript": [
              "IPython.notebook.set_autosave_interval(0)"
            ]
          },
          "metadata": {}
        },
        {
          "output_type": "stream",
          "name": "stdout",
          "text": [
            "Autosave disabled\n"
          ]
        }
      ],
      "source": [
        "import numpy as np\n",
        "import pandas as pd\n",
        "from matplotlib import pyplot as plt\n",
        "%autosave 0\n",
        "%matplotlib inline"
      ]
    },
    {
      "cell_type": "markdown",
      "metadata": {
        "id": "C1bBVbWCXyMf"
      },
      "source": [
        "# Text Classification with Naive Bayes"
      ]
    },
    {
      "cell_type": "markdown",
      "metadata": {
        "id": "A2V0Tm8jXyMf"
      },
      "source": [
        "### Using Probability In Learning\n",
        "\n",
        "Given an estimate of $p(y | \\mathbf{x})$, we would make a prediction according to\n",
        "\n",
        "$$\\hat{y} = \\mathrm{arg} \\max_y p(y | \\mathbf{x}).$$\n",
        "\n",
        "In logistic regression we estimated $p(y | \\mathbf{x})$ directly.  Here we will take a different route, using Bayes' rule."
      ]
    },
    {
      "cell_type": "markdown",
      "metadata": {
        "id": "DoisUW-hXyMg"
      },
      "source": [
        "### Bayes' rule\n",
        "\n",
        "The following relationship between two variables is known as *Bayes' rule*:\n",
        "\n",
        "$$\n",
        "    p(y|x)=\\frac{p(x|y)p(y)}{p(x)}\n",
        "$$\n",
        "\n",
        "In machine learning we use an extended version of Bayes rule that describes the relationship between a label $y$ and a vector of variables $\\mathbf{x}$:\n",
        "\n",
        "$$\n",
        "    p(y|\\mathbf{x})=\\frac{p(\\mathbf{x}|y)p(y)}{p(\\mathbf{x})}\n",
        "$$\n",
        "\n",
        "The Naive Bayes classifier is built on the basis of this relationship.\n"
      ]
    },
    {
      "cell_type": "markdown",
      "metadata": {
        "id": "pf45EOwZXyMg"
      },
      "source": [
        "### Bayes' rule as a mode of inference\n",
        "\n",
        "From the perspective of machine learning, Bayes rule provides a way of updating our confidence in an outcome as more evidence comes along.\n",
        "Our *prior* probability for a class $y$ is $p(y)$.  After making an observation $\\mathbf{x}$, we need to update our belief to $p(y|\\mathbf{x})$ which is called the *posterior* probability.\n",
        "The relationship between the posterior and prior is given by Bayes rule:\n",
        "\n",
        "$$\n",
        "\\underbrace{p(y|\\mathbf{x})}_{\\mathrm{posterior}}=\\frac{\\overbrace{p(\\mathbf{x}|y)}^{\\mathrm{likelihood}}\\overbrace{p(y)}^{\\mathrm{prior}}}{p(\\mathbf{x})}\n",
        "$$\n",
        "\n",
        "Or in other words:\n",
        "\n",
        "$$\\mathrm{posterior} \\propto \\mathrm{likelihood} \\times \\mathrm{prior} $$\n"
      ]
    },
    {
      "cell_type": "markdown",
      "metadata": {
        "id": "nTCSbbfnXyMg"
      },
      "source": [
        "### Maximum A-posteriori\n",
        "\n",
        "The maximum a posteriori (MAP) rule:\n",
        "\n",
        "$$\n",
        "y_{\\mathrm{MAP}}=\\mathrm{arg}\\max_y p(y|\\mathbf{x}) = \\mathrm{arg}\\max_y \\frac{p(\\mathbf{x}|y)p(y)}{p(\\mathbf{x})}=\\mathrm{arg}\\max_y p(\\mathbf{x}|y)p(y)\n",
        "$$\n"
      ]
    },
    {
      "cell_type": "markdown",
      "metadata": {
        "id": "ctX5Xsc3XyMg"
      },
      "source": [
        "### Classification with Bayes’ rule\n",
        "\n",
        "To use the MAP estimator we will estimate $p(\\mathbf{x}|y)$.\n",
        "\n",
        "**Example**: Predict whether or not a picnic spot is enjoyable\n",
        "\n",
        "Assume that we have the following table as training data that relate a collection of features (whether it's sunny/rainy the temperature is warm/cold, the humidity, wind, and forecast) to the label that describes our level of enjoyment from our picnic spot:\n",
        "\n",
        "|  |                 |                |                |                |     |     |\n",
        "|--------------|--------|---------|----------------|----------------|------------------------|-------|\n",
        "|              |$X_1$|$X_2$|$X_3$|$X_4$|$X_5$|$X_6$|$Y$|\n",
        "|              |Sky|Temp|Humidity|Wind|Near water|EnjoySpt|\n",
        "| **Row 1** |Sunny|Warm|Normal|Strong|Yes|Yes|\n",
        "| **Row 2** |Sunny|Warm|High|Strong|No|Yes|\n",
        "| **Row 3** |Rainy|Cold|High|Weak|No|No|\n",
        "| **Row 4** |Cloudy|Mild|High|Weak|No|Yes|\n",
        "\n",
        "\n",
        "\n",
        "How many parameters does this model have?\n",
        "We will assume discrete binary features and a binary classification problem.\n",
        "\n",
        "* Prior $p(y)$:  1 parameter\n",
        "* Likelihood $p(\\mathbf{x} | y)$: $2(2^d – 1)$\n"
      ]
    },
    {
      "cell_type": "markdown",
      "metadata": {
        "id": "XqkNEOinXyMh"
      },
      "source": [
        "#### Exercise:\n",
        "\n",
        "* What is the number of parameters for a classification problem with $k$ classes?\n",
        "* What if each feature has $v$ possible values instead of two?\n"
      ]
    },
    {
      "cell_type": "markdown",
      "metadata": {
        "id": "NT40IxAJXyMh"
      },
      "source": [
        "### The Naive Bayes assumption\n",
        "\n",
        "Clearly, modeling $p(\\mathbf{x} | y)$ directly does not scale well with the number of features.  We would need an exponential number of examples to reliably estimate those parameters (exponential in the number of features).\n",
        "\n",
        "We will use the simplifying assumption of conditional independence:  given the class label, we will assume that the features are independent, i.e.\n",
        "$$\n",
        "p(\\mathbf{x}|y)=p(x_1|y)p(x_2|y),\\ldots,p(x_d|y).\n",
        "$$\n",
        "\n",
        "\n",
        "This model is now tractable and has $2d+1$ parameters for a binary classification problem with binary features.\n",
        "\n",
        "We can now use Bayes' rule to obtain the Naive Bayes decision rule:\n",
        "$$\n",
        "y_{NB}=\\mathrm{arg} \\max_y P(\\mathbf{x}|y)P(y)= \\mathrm{arg} \\max_y \\prod_{i=1}^{d} p(x_i|y)p(y)\n",
        "$$\n",
        "\n",
        "If conditional independence holds, Naive Bayes is an optimal classifier!\n",
        "Our next task is to estimate $p(x_i|y)$, which we will do using the principle of maximum likelihood."
      ]
    },
    {
      "cell_type": "markdown",
      "metadata": {
        "id": "mF8k_SdDXyMh"
      },
      "source": [
        "### Binomial naive Bayes\n",
        "\n",
        "Naive Bayes was one of the standard methods for text classification.  Binomial naive Bayes is motivated by this application.  For text classification we can represent a document by a vector of 1s and 0s that indicate presence/absence of a given word in the document.\n",
        "\n",
        "Let's demonstrate that using scikit-learn's `CountVectorizer`:"
      ]
    },
    {
      "cell_type": "code",
      "execution_count": 3,
      "metadata": {
        "id": "DQh-mL7YXyMh",
        "outputId": "657ac0a1-08d3-4008-f803-0eea774f39a8",
        "colab": {
          "base_uri": "https://localhost:8080/"
        }
      },
      "outputs": [
        {
          "output_type": "stream",
          "name": "stdout",
          "text": [
            "[[0 1 1 1 0 0 0 1 0 1]\n",
            " [0 1 0 1 0 0 1 1 0 1]\n",
            " [1 0 0 1 0 1 0 1 1 1]\n",
            " [0 1 1 1 1 0 0 1 0 1]]\n",
            "['and' 'document' 'first' 'is' 'not' 'one' 'second' 'the' 'third' 'this']\n"
          ]
        }
      ],
      "source": [
        "from sklearn.feature_extraction.text import CountVectorizer\n",
        "corpus = ['This is the first document.',\n",
        "          'This document is the second document.',\n",
        "          'And this is the third one.',\n",
        "          'This is not the first document']\n",
        "vectorizer = CountVectorizer(binary=True)\n",
        "X = vectorizer.fit_transform(corpus)\n",
        "print(X.toarray())\n",
        "print(vectorizer.get_feature_names_out())"
      ]
    },
    {
      "cell_type": "markdown",
      "metadata": {
        "id": "bAIZcHAWXyMh"
      },
      "source": [
        "Note that the return value of `CountVectorizer` is not a standard array:"
      ]
    },
    {
      "cell_type": "code",
      "execution_count": 4,
      "metadata": {
        "id": "k53Qvwu5XyMi",
        "outputId": "bd9a5666-f226-4491-88cd-293dc2c96ec7",
        "colab": {
          "base_uri": "https://localhost:8080/"
        }
      },
      "outputs": [
        {
          "output_type": "execute_result",
          "data": {
            "text/plain": [
              "<4x10 sparse matrix of type '<class 'numpy.int64'>'\n",
              "\twith 22 stored elements in Compressed Sparse Row format>"
            ]
          },
          "metadata": {},
          "execution_count": 4
        }
      ],
      "source": [
        "X"
      ]
    },
    {
      "cell_type": "markdown",
      "metadata": {
        "id": "1olwC10mXyMi"
      },
      "source": [
        "### Reflection:\n",
        "\n",
        "What are we missing by converting a document to a vector of presence/absence?"
      ]
    },
    {
      "cell_type": "markdown",
      "metadata": {
        "id": "yl8G9g90XyMi"
      },
      "source": [
        "### Binomial Naive Bayes\n",
        "\n",
        "Under this simple assumption that a feature occurs/doesn't occur, a very simple probabilistic model will work - the binomial distribution, which is characterized by a single parameter $p$.\n",
        "When we extend things to $d$ binary features and $K$ classes we have for class $k$ parameters $p_{1k},\\ldots,p_{dk}$ and\n",
        "\n",
        "$$\n",
        "p(x_j|y_k)=\\space  \\begin{cases} p_{jk} & \\textrm{when} \\space x_j=1 \\newline\n",
        "1- p_{jk} \\space &\\textrm{when} \\space x_j=0\n",
        "\\end{cases}\n",
        "$$\n",
        "\n",
        "which can be expressed as:\n",
        "\n",
        "$$\n",
        "p(x_j|y_k) = p_{jk}^{x_j} (1-p_{jk})^{1-x_j}.\n",
        "$$\n",
        "\n",
        "Overall we then have:\n",
        "\n",
        "$$\n",
        "p(\\mathbf{x}|y_k) = \\prod_{j=1}^d p_{jk}^{x_j} (1-p_{jk})^{1-x_j}.\n",
        "$$\n",
        "\n",
        "We note that the above expression for $p(x_j|y_k)$ can be written as:\n",
        "\n",
        "$$\n",
        "p(x_j|y_k) = p_{jk}{x_j} + (1-p_{jk})(1-x_j).\n",
        "$$\n",
        "\n",
        "#### Implementation note\n",
        "\n",
        "In practical implementations, it's a good idea to compute this product indirectly by working with the logarithms of the probabilities to avoid underflow."
      ]
    },
    {
      "cell_type": "markdown",
      "metadata": {
        "id": "j7hShLXhXyMi"
      },
      "source": [
        "### Example:  Email classification\n",
        "\n",
        "Suppose our vocubulary contains three words a, b and c and we use a multivariate Bernoulli model for our emails, with parameters\n",
        "        \n",
        "     +(spam) = (0.5,0.67,0.33)   \n",
        "     -(not spam)=(0.67,0.33,0.33)   \n",
        "\n",
        "These are the parameter values for $p(a|+), p(b|+), p(c|+)$ and $p(a|-), p(b|-), p(c|-)$, respectively.\n",
        "\n",
        "This means ,for example, that the presence of b is twice as likely in the spam class (+), compared with the non-spam class.\n",
        "\n",
        "Suppose you are given an email that contains the words a and b but not c and hence is described by the bit vector $\\mathbf{x}=(1,1,0)$.\n",
        "We obtain likelihoods\n",
        "\n",
        "$$\n",
        "p(\\mathbf{x}|+)={0.5 \\times 0.67 \\times 0.67} = 0.22\n",
        "$$\n",
        "\n",
        "$$\n",
        "p(\\mathbf{x}|-)={0.67 \\times 0.33 \\times 0.67} = 0.15\n",
        "$$\n",
        "\n",
        "If the two classes are equally probable we obtain that $\\mathbf{x}$ should be classified as spam.\n"
      ]
    },
    {
      "cell_type": "markdown",
      "metadata": {
        "id": "jVG9OCYzXyMi"
      },
      "source": [
        "Before deriving the training procedure for Naive Bayes for a Bernoulli distribution we need to discuss the principle of maximum likelihood.\n",
        "\n",
        "### Digression: maximum likelihood\n",
        "\n",
        "Goal:  Fit a probabilistic model $p(x | \\theta)$ to data, i.e.\n",
        "estimate its parameters $\\theta$.  Note that $x$ is a scalar value.\n",
        "\n",
        "We are given independent identically distributed (i.i.d.) data $X = (x_1, x_2,\\ldots, x_N)$.\n",
        "\n",
        "The **Likelihood** of the data:\n",
        "\n",
        "$$\n",
        "  p(X|\\theta)=p(x_1|\\theta)p(x_2|\\theta),...,p(x_N|\\theta)      \n",
        "$$\n",
        "\n",
        "For simplicity we will work with the **Log likelihood**:\n",
        "\n",
        "$$\n",
        "  \\log p(X|\\theta)=\\sum_{i=1}^{N}\\log p(x_i|\\theta)      \n",
        "$$\n",
        "\n",
        "\n",
        "The **Maximum likelihood solution** consists of the parameters $\\theta$ that maximize $ \\log p(X | \\theta) $.  Note that maximizing the likelihood or the log-likelihood is equivalent."
      ]
    },
    {
      "cell_type": "markdown",
      "metadata": {
        "id": "hylmjwgJXyMi"
      },
      "source": [
        "### Maximum likelihood example\n",
        "\n",
        "**Coin Toss**:\n",
        "Estimate the probability $p$ that a coin lands “Heads” using the result of $N$ coin tosses, $h$ of which resulted in heads.\n",
        "\n",
        "The likelihood of the data: $p(X|\\theta)=p^h(1-p)^{(n-h)}$\n",
        "\n",
        "\n",
        "Log likelihood: $\\log p(X|\\theta) = h \\log p + (n-h) \\log(1-p)$\n",
        "\n",
        "Taking the derivative and setting to 0:\n",
        "\n",
        "$$\n",
        "        \\frac{\\partial \\log p(X|\\theta)}{\\partial p}=\\frac{h}{p}-\\frac{(N-h)}{(1-p)}=0\n",
        "$$        \n",
        "\n",
        "$$\n",
        "\\implies p=\\frac{h}{N}\n",
        "$$\n",
        "\n"
      ]
    },
    {
      "cell_type": "markdown",
      "metadata": {
        "id": "vgfyltlIXyMi"
      },
      "source": [
        "### Naive Bayes training\n",
        "\n",
        "Training data: $(N \\times d)$ feature matrix $X$,  and labels $y_1,\\ldots,y_N$.\n",
        "\n",
        "The maximum likelihood estimates for a feature vector $\\mathbf{x}$ and label $y$ are given as follows.\n",
        "\n",
        "The class prior is estimated as the number of examples with a given label:\n",
        "\n",
        "$$\n",
        "\\hat{p}(y)=\\frac{|\\{i:y_i=y\\}|}{N}.\n",
        "$$\n",
        "\n",
        "The likelihood is estimated by the appropriate frequency estimates from the training data matrix:\n",
        "\n",
        "$$\n",
        "\\hat{p}(x_j|y)=\\frac{\\hat{p}(x_j,y)}{\\hat{p}(y)}=\\frac{\\frac{|\\{i:X_{ij}=x_{j},y_{i}=y\\}|}{N}}{\\frac{|\\{i:y_i=y\\}|}{N}}\n",
        "$$\n",
        "\n"
      ]
    },
    {
      "cell_type": "markdown",
      "metadata": {
        "id": "6ae3aZZ_XyMi"
      },
      "source": [
        "### Email classification: training the model\n",
        "\n",
        "Suppose we have the following set of emails:\n",
        "\n",
        "Email|a|b|c|Class\n",
        "---|---|---|---|---\n",
        "$e_1$|0|1|0|+\n",
        "$e_2$|0|1|1|+\n",
        "$e_3$|1|0|0|+\n",
        "$e_4$|1|1|0|+\n",
        "$e_5$|1|1|0|-\n",
        "$e_6$|1|0|1|-\n",
        "$e_7$|1|0|0|-\n",
        "$e_8$|0|0|0|-\n",
        "\n",
        "From this table we can compute estimates required for using the model:\n",
        "\n",
        "$\\hat{p}(+)=0.5, \\hat{p}(-)=0.5$\n",
        "\n",
        "$\\hat{p}(a|+)=0.5, \\hat{p}(a|-)=0.75$\n",
        "\n",
        "$\\hat{p}(b|+)=0.75, \\hat{p}(b|-)=0.25$\n",
        "\n",
        "$\\hat{p}(c|+)=0.25, \\hat{p}(c|-)=0.25$\n",
        "\n",
        "The following piece of code computes these probablities:"
      ]
    },
    {
      "cell_type": "code",
      "execution_count": 6,
      "metadata": {
        "id": "TLmTOxvTXyMi",
        "outputId": "e922d53d-de2e-4106-b245-6c16ec21c892",
        "colab": {
          "base_uri": "https://localhost:8080/"
        }
      },
      "outputs": [
        {
          "output_type": "stream",
          "name": "stdout",
          "text": [
            "labels:  [0 1]\n",
            "prior: [0.5 0.5]\n",
            "probabilities: \n",
            "y=0 [0.75 0.25 0.25]\n",
            "y=1 [0.5  0.75 0.25]\n"
          ]
        }
      ],
      "source": [
        "import numpy as np\n",
        "\n",
        "def calculate_probabilities(X, y):\n",
        "    N,d = X.shape\n",
        "    labels = np.unique(y)\n",
        "    print(\"labels: \", labels)\n",
        "    # compute the prior\n",
        "    prior=np.zeros(shape=(2,))\n",
        "    for label in labels :\n",
        "        prior[label] = np.sum(y==label)/N\n",
        "    probs=np.zeros(shape=(len(labels), d))\n",
        "    for label in labels:\n",
        "        probs[label] = (np.sum(X[y==label], axis=0) / N) / prior[label]\n",
        "\n",
        "    return prior,probs\n",
        "\n",
        "X = np.array(\n",
        "    [[0, 1, 0],\n",
        "     [0, 1, 1],\n",
        "     [1, 0, 0],\n",
        "     [1, 1, 0],\n",
        "     [1, 1, 0],\n",
        "     [1, 0, 1],\n",
        "     [1, 0, 0],\n",
        "     [0, 0, 0]])\n",
        "y=np.array([1,1,1,1,0,0,0,0])\n",
        "prior,probs = calculate_probabilities(X,y)\n",
        "\n",
        "print('prior:', prior)\n",
        "print('probabilities: ')\n",
        "print('y=0', probs[0])\n",
        "print('y=1', probs[1])\n"
      ]
    },
    {
      "cell_type": "code",
      "execution_count": 7,
      "metadata": {
        "id": "UK3If0N6XyMj",
        "outputId": "2299a24a-3e1a-4c0a-8653-7913a50972de",
        "colab": {
          "base_uri": "https://localhost:8080/"
        }
      },
      "outputs": [
        {
          "output_type": "stream",
          "name": "stdout",
          "text": [
            "[[0.09375 0.5625 ]\n",
            " [0.03125 0.1875 ]\n",
            " [0.84375 0.1875 ]\n",
            " [0.28125 0.5625 ]\n",
            " [0.28125 0.5625 ]\n",
            " [0.28125 0.0625 ]\n",
            " [0.84375 0.1875 ]\n",
            " [0.28125 0.1875 ]]\n"
          ]
        },
        {
          "output_type": "execute_result",
          "data": {
            "text/plain": [
              "(0.09375, 0.5625)"
            ]
          },
          "metadata": {},
          "execution_count": 7
        }
      ],
      "source": [
        "def predict(probs, prior, X):\n",
        "    N,d = X.shape\n",
        "    pred = np.zeros((N,len(prior)))\n",
        "    for i in range(N):\n",
        "        for label in range(len(prior)) :\n",
        "            p = 1.0\n",
        "            for j in range(d):\n",
        "                p = p * probs[label][j]**X[i][j] * (1-probs[label][j])**(1-X[i][j])\n",
        "            pred[i][label]=p / prior[label]\n",
        "    return pred\n",
        "\n",
        "print(predict(probs, prior, X))\n",
        "0.25*0.25*0.75/0.5,0.5*0.75*0.75/0.5"
      ]
    },
    {
      "cell_type": "code",
      "execution_count": 8,
      "metadata": {
        "id": "ZlkO6fvaXyMj",
        "outputId": "59e8a3d6-e3d0-4ab2-833c-0cfc029c498f",
        "colab": {
          "base_uri": "https://localhost:8080/"
        }
      },
      "outputs": [
        {
          "output_type": "execute_result",
          "data": {
            "text/plain": [
              "array([False, False,  True, False, False,  True,  True,  True])"
            ]
          },
          "metadata": {},
          "execution_count": 8
        }
      ],
      "source": [
        "p = predict(probs, prior, X)\n",
        "p[:,0] > p[:, 1]"
      ]
    },
    {
      "cell_type": "markdown",
      "metadata": {
        "id": "e62cSsmGXyMj"
      },
      "source": [
        "### Comments on Naive Bayes\n",
        "\n",
        "Usually features are not conditionally independent.\n",
        "Despite that, Naive Bayes is still one of the most widely used classifiers due to its simple implementation and fast training.\n",
        "It often performs well even when the assumption is violated.\n",
        "\n",
        "\n"
      ]
    },
    {
      "cell_type": "markdown",
      "metadata": {
        "id": "jZHaOkEzXyMj"
      },
      "source": [
        "### When there are few training examples\n",
        "\n",
        "What if you have never seen a training example where a is present within our positive examples ($y=+$)?  In that case we have that:\n",
        "\n",
        "$p(\\mathbf{x} | +) = p(a | +) p(b | +) p(c | +) = 0$\n",
        "\n",
        "What to do?\n",
        "\n",
        "Add \"virtual examples\" for which a is present when y=spam.  In other words, rather than initialize all counts in the calculation of $p(x_j|y)$ to be zero, initialize them to some small numbers.\n",
        "These are called **pseudo-counts**.\n"
      ]
    },
    {
      "cell_type": "markdown",
      "metadata": {
        "id": "0qVWyaxmXyMj"
      },
      "source": [
        "### Binomial Naive Bayes in scikit-learn with the 20 newsgroups dataset\n",
        "\n",
        "The 20 newsgroups dataset comprises around 18000 newsgroups posts on 20 topics split into two subsets: one for training (or development) and the other one for testing (or for performance evaluation).\n",
        "\n",
        "For illustration purposes we will use only two categories out of the 20: `alt.aetheism` and `sci.space`."
      ]
    },
    {
      "cell_type": "code",
      "execution_count": 9,
      "metadata": {
        "id": "Loyprt6pXyMj"
      },
      "outputs": [],
      "source": [
        "# load the dataset\n",
        "from sklearn.datasets import fetch_20newsgroups\n",
        "cats=['alt.atheism', 'sci.space']\n",
        "newsgroups_train = fetch_20newsgroups(subset='train',\n",
        "                                      remove=('headers', 'footers', 'quotes'),\n",
        "                                      categories=cats)\n",
        "# we eliminated the headers and footers of the emails which\n",
        "# are a giveaway of the class labels"
      ]
    },
    {
      "cell_type": "markdown",
      "metadata": {
        "id": "YGmcjVP5XyMj"
      },
      "source": [
        "Let's take a look at the labels:"
      ]
    },
    {
      "cell_type": "code",
      "execution_count": 10,
      "metadata": {
        "id": "2yZvQBl-XyMj",
        "outputId": "264c1a60-890e-456b-e513-3ad3bd70c51f",
        "colab": {
          "base_uri": "https://localhost:8080/"
        }
      },
      "outputs": [
        {
          "output_type": "stream",
          "name": "stdout",
          "text": [
            "[0 1 1 ... 1 1 1]\n",
            "(1073,)\n",
            "['alt.atheism', 'sci.space']\n"
          ]
        }
      ],
      "source": [
        "print(newsgroups_train.target)\n",
        "print(newsgroups_train.target.shape)\n",
        "print(newsgroups_train.target_names)"
      ]
    },
    {
      "cell_type": "markdown",
      "metadata": {
        "id": "56l66CTIXyMj"
      },
      "source": [
        "A look at the data"
      ]
    },
    {
      "cell_type": "code",
      "execution_count": 11,
      "metadata": {
        "id": "niZnLDe3XyMj",
        "outputId": "8b0ab3a2-c594-45c5-e881-1d5790b0f62e",
        "colab": {
          "base_uri": "https://localhost:8080/",
          "height": 139
        }
      },
      "outputs": [
        {
          "output_type": "execute_result",
          "data": {
            "text/plain": [
              "': \\n: >> Please enlighten me.  How is omnipotence contradictory?\\n: \\n: >By definition, all that can occur in the universe is governed by the rules\\n: >of nature. Thus god cannot break them. Anything that god does must be allowed\\n: >in the rules somewhere. Therefore, omnipotence CANNOT exist! It contradicts\\n: >the rules of nature.\\n: \\n: Obviously, an omnipotent god can change the rules.\\n\\nWhen you say, \"By definition\", what exactly is being defined;\\ncertainly not omnipotence. You seem to be saying that the \"rules of\\nnature\" are pre-existant somehow, that they not only define nature but\\nactually cause it. If that\\'s what you mean I\\'d like to hear your\\nfurther thoughts on the question.'"
            ],
            "application/vnd.google.colaboratory.intrinsic+json": {
              "type": "string"
            }
          },
          "metadata": {},
          "execution_count": 11
        }
      ],
      "source": [
        "newsgroups_train.data[0]"
      ]
    },
    {
      "cell_type": "markdown",
      "metadata": {
        "id": "JYnmp3vOXyMk"
      },
      "source": [
        "Now we need to convert the text into vectors of numerical values."
      ]
    },
    {
      "cell_type": "code",
      "execution_count": 12,
      "metadata": {
        "id": "RAtNhpPDXyMk",
        "outputId": "b912062d-55db-4977-b7f2-2122662b97c1",
        "colab": {
          "base_uri": "https://localhost:8080/"
        }
      },
      "outputs": [
        {
          "output_type": "stream",
          "name": "stdout",
          "text": [
            "(1073, 18217)\n"
          ]
        }
      ],
      "source": [
        "from sklearn.feature_extraction.text import CountVectorizer\n",
        "\n",
        "vectorizer = CountVectorizer(binary=True)\n",
        "X_train = vectorizer.fit_transform(newsgroups_train.data)\n",
        "print(X_train.shape)"
      ]
    },
    {
      "cell_type": "markdown",
      "metadata": {
        "id": "vyr0TSp3XyMk"
      },
      "source": [
        "Let's do the same for the test data:"
      ]
    },
    {
      "cell_type": "code",
      "execution_count": 13,
      "metadata": {
        "id": "1Vaw_B0vXyMk"
      },
      "outputs": [],
      "source": [
        "#fetching the test data\n",
        "newsgroups_test = fetch_20newsgroups(subset='test',\n",
        "                                     remove=('headers', 'footers', 'quotes'),\n",
        "                                     categories=cats)\n",
        "X_test = vectorizer.transform(newsgroups_test.data)"
      ]
    },
    {
      "cell_type": "markdown",
      "metadata": {
        "id": "iBP55nodXyMk"
      },
      "source": [
        "Now we are ready to apply the scikit-learn version of Naive Bayes:"
      ]
    },
    {
      "cell_type": "code",
      "execution_count": 14,
      "metadata": {
        "id": "niHcgKRNXyMk"
      },
      "outputs": [],
      "source": [
        "from sklearn.naive_bayes import MultinomialNB\n",
        "from sklearn.naive_bayes import BernoulliNB\n",
        "\n",
        "from sklearn import metrics\n",
        "#nb = MultinomialNB(alpha=.01)\n",
        "nb = BernoulliNB(alpha=0.1)\n",
        "nb.fit(X_train, newsgroups_train.target)\n",
        "\n",
        "pred = nb.predict(X_test)"
      ]
    },
    {
      "cell_type": "markdown",
      "metadata": {
        "id": "BPX5qAakXyMl"
      },
      "source": [
        "Note that the parameter $\\alpha$ of the scikit-learn implementation is a hyperparameter that controls the use of pseudo-counts, i.e. what value to assign a feature that has not been seen.  Like the $\\alpha$ parameter of linear regression and logistic regression, it serves to help avoid overfitting.\n",
        "\n",
        "The accuracy of the classifier:"
      ]
    },
    {
      "cell_type": "code",
      "execution_count": 15,
      "metadata": {
        "id": "HyOkymMNXyMl",
        "outputId": "9f65ae9d-c392-4069-a52c-ac202e31ae53",
        "colab": {
          "base_uri": "https://localhost:8080/"
        }
      },
      "outputs": [
        {
          "output_type": "stream",
          "name": "stdout",
          "text": [
            "accuracy:  0.8597475455820477\n"
          ]
        }
      ],
      "source": [
        "print ('accuracy: ', np.sum(pred==newsgroups_test.target) / len(pred))"
      ]
    },
    {
      "cell_type": "code",
      "execution_count": 16,
      "metadata": {
        "id": "SFbVy9GzXyMl",
        "outputId": "5e6f319e-db47-41ca-c3fd-6f2d0ac1178a",
        "colab": {
          "base_uri": "https://localhost:8080/"
        }
      },
      "outputs": [
        {
          "output_type": "execute_result",
          "data": {
            "text/plain": [
              "['alt.atheism', 'sci.space']"
            ]
          },
          "metadata": {},
          "execution_count": 16
        }
      ],
      "source": [
        "newsgroups_train.target_names"
      ]
    },
    {
      "cell_type": "code",
      "execution_count": 17,
      "metadata": {
        "id": "FEoL1pUbXyMl",
        "outputId": "43463164-4374-4dbf-a122-87b7aad99187",
        "colab": {
          "base_uri": "https://localhost:8080/"
        }
      },
      "outputs": [
        {
          "output_type": "execute_result",
          "data": {
            "text/plain": [
              "array([[310,   9],\n",
              "       [ 91, 303]])"
            ]
          },
          "metadata": {},
          "execution_count": 17
        }
      ],
      "source": [
        "metrics.confusion_matrix(newsgroups_test.target, pred,  labels=[0,1])"
      ]
    },
    {
      "cell_type": "code",
      "execution_count": 18,
      "metadata": {
        "id": "kD4pDJRDXyMl",
        "outputId": "bc3a9422-a4cc-4f7c-f84f-9f349aa17bda",
        "colab": {
          "base_uri": "https://localhost:8080/"
        }
      },
      "outputs": [
        {
          "output_type": "execute_result",
          "data": {
            "text/plain": [
              "(1073, 593)"
            ]
          },
          "metadata": {},
          "execution_count": 18
        }
      ],
      "source": [
        "len(newsgroups_train.target),np.sum(newsgroups_train.target==1)"
      ]
    },
    {
      "cell_type": "code",
      "execution_count": 25,
      "metadata": {
        "id": "ghrYaInhXyMl",
        "outputId": "d63fd676-0209-4175-a307-ec16d144b664",
        "colab": {
          "base_uri": "https://localhost:8080/",
          "height": 466
        }
      },
      "outputs": [
        {
          "output_type": "execute_result",
          "data": {
            "text/plain": [
              "<sklearn.metrics._plot.confusion_matrix.ConfusionMatrixDisplay at 0x7940a6676530>"
            ]
          },
          "metadata": {},
          "execution_count": 25
        },
        {
          "output_type": "display_data",
          "data": {
            "text/plain": [
              "<Figure size 640x480 with 2 Axes>"
            ],
            "image/png": "[encoded data removed]"
          },
          "metadata": {}
        }
      ],
      "source": [
        "from sklearn.metrics import confusion_matrix, ConfusionMatrixDisplay\n",
        "\n",
        "ConfusionMatrixDisplay.from_estimator(nb,X_test,newsgroups_test.target)\n"
      ]
    },
    {
      "cell_type": "markdown",
      "metadata": {
        "id": "q-wOKrJIXyMl"
      },
      "source": [
        "Let's apply our model to sentences that seem relevant to to the two categories ('alt.atheism', 'sci.space') and see how it does:"
      ]
    },
    {
      "cell_type": "code",
      "execution_count": 26,
      "metadata": {
        "id": "9x4H1MN4XyMl",
        "outputId": "11d1b515-fcfa-4b39-a623-211440ef5821",
        "colab": {
          "base_uri": "https://localhost:8080/"
        }
      },
      "outputs": [
        {
          "output_type": "stream",
          "name": "stdout",
          "text": [
            "sending a payload to the international space station\n",
            "predicted class:  sci.space\n",
            "probabilities:  [0.07910088 0.92089912]\n",
            "religion and its role in American politics\n",
            "predicted class:  alt.atheism\n",
            "probabilities:  [9.99999874e-01 1.26343962e-07]\n",
            "the astronaut launched yesterday has no spiritual beliefs\n",
            "predicted class:  alt.atheism\n",
            "probabilities:  [9.99832216e-01 1.67783690e-04]\n",
            "the astronaut reached the station\n",
            "predicted class:  alt.atheism\n",
            "probabilities:  [0.97397014 0.02602986]\n"
          ]
        }
      ],
      "source": [
        "sentences = [\n",
        "    'sending a payload to the international space station',\n",
        "    'religion and its role in American politics',\n",
        "    'the astronaut launched yesterday has no spiritual beliefs',\n",
        "    'the astronaut reached the station',\n",
        "]\n",
        "X_unlabeled = vectorizer.transform(sentences)\n",
        "pred = nb.predict(X_unlabeled)\n",
        "probs = nb.predict_proba(X_unlabeled)\n",
        "for i in range(len(sentences)) :\n",
        "    print (sentences[i])\n",
        "    print('predicted class: ', newsgroups_train.target_names[pred[i]])\n",
        "    print('probabilities: ', probs[i])\n"
      ]
    },
    {
      "cell_type": "markdown",
      "metadata": {
        "id": "oyxCnsKnXyMl"
      },
      "source": [
        "### Multinomial Naive Bayes\n",
        "\n",
        "Up until now we assumed that each feature was either present or absent.  In probabilistic terms, we modeled each feature using the binomial distribution.  For text data for example, there is potential information in the counts, i.e. how many times a word appears in a document, not just its presence of absence.  To model counts we can use the multinomial distribution:  each feature is now associated with a multinomial variable.\n",
        "\n",
        "\n",
        "\n",
        "### Exercises\n",
        "\n",
        "* The `CountVectorizer` converts all tokens to lowercase before generating its output.  Why is that useful?\n",
        "\n",
        "* Use [multinomial Naive Bayes](https://scikit-learn.org/stable/modules/generated/sklearn.naive_bayes.MultinomialNB.html) instead of Bernoulli Naive Bayes.  You will need to recreate the training/test vectors to be counts rather than presence/absence.  Which version of Naive Bayes performed better?  Can you provide an explanation why?\n"
      ]
    },
    {
      "cell_type": "code",
      "execution_count": null,
      "metadata": {
        "id": "DxG_YwORXyMl"
      },
      "outputs": [],
      "source": [
        "# multinomial naive Bayes applied to the 20 newsgroups data"
      ]
    },
    {
      "cell_type": "markdown",
      "metadata": {
        "id": "z3xU6DwIXyMl"
      },
      "source": [
        "### Gaussian naive Bayes\n",
        "\n",
        "If you are dealing with data whose features are continuous rather than discrete, you need to model $p(x_i | y)$ using an appropriate distribution.  A common choice is to use the normal (aka Gaussian) distribution:\n",
        "\n",
        "$$\n",
        "p(x_i | y) = \\frac{1}{\\sqrt{2\\pi \\sigma_{iy}^2}} e^{- \\frac{(x_i - \\mu_{iy})^2}{2\\sigma_{iy}^2}},\n",
        "$$\n",
        "\n",
        "where $\\mu_{iy}$ is the mean for feature $i$ in class $y$ and $\\sigma_{iy}$ is the standard deviation for feature $i$ in class $y$.\n",
        "\n",
        "In scikit-learn Gaussian naive Bayes is implemented as the class [GaussianNB](https://scikit-learn.org/stable/modules/generated/sklearn.naive_bayes.GaussianNB.html#sklearn.naive_bayes.GaussianNB).\n",
        "\n",
        "### Exercise\n",
        "\n",
        "* Apply Gaussian Naive Bayes to the iris dataset, and compare its performance to the classifier of your choice."
      ]
    },
    {
      "cell_type": "markdown",
      "metadata": {
        "id": "bwlf4z40XyMl"
      },
      "source": [
        "### Comments\n",
        "\n",
        "An advantage of naive Bayes is that it requires a relatively small number of training data to estimate its parameters, so for relatively small datasets it may work very well.\n",
        "For larger datasets other classifiers will likely outperform it (see\n",
        "Caruana et al. referenced below).\n",
        "In any case, it is still a good baseline, especially for text classification."
      ]
    },
    {
      "cell_type": "markdown",
      "metadata": {
        "id": "1-DrZ_YeXyMl"
      },
      "source": [
        "### References\n",
        "\n",
        "* Domingos, P., & Pazzani, M. (1997). Beyond Independence: Conditions for the Optimality of the Simple Bayesian Classifier. Machine Learning. 29, 103-130.\n",
        "* Caruana, R.; Niculescu-Mizil, A. (2006). An empirical comparison of supervised learning algorithms. Proc. 23rd International Conference on Machine Learning."
      ]
    },
    {
      "cell_type": "code",
      "execution_count": null,
      "metadata": {
        "id": "23fEYw-GXyMm"
      },
      "outputs": [],
      "source": []
    }
  ],
  "metadata": {
    "kernelspec": {
      "display_name": "Python 3",
      "language": "python",
      "name": "python3"
    },
    "language_info": {
      "codemirror_mode": {
        "name": "ipython",
        "version": 3
      },
      "file_extension": ".py",
      "mimetype": "text/x-python",
      "name": "python",
      "nbconvert_exporter": "python",
      "pygments_lexer": "ipython3",
      "version": "3.7.6"
    },
    "colab": {
      "provenance": [],
      "include_colab_link": true
    }
  },
  "nbformat": 4,
  "nbformat_minor": 0
}