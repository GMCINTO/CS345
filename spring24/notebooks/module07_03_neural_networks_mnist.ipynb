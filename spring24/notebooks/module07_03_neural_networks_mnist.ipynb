{
  "cells": [
    {
      "cell_type": "markdown",
      "metadata": {
        "id": "view-in-github",
        "colab_type": "text"
      },
      "source": [
        "<a href=\"https://colab.research.google.com/github/sarathsreedharan/CS345/blob/master/spring24/notebooks/module07_03_neural_networks_mnist.ipynb\" target=\"_parent\"><img src=\"https://colab.research.google.com/assets/colab-badge.svg\" alt=\"Open In Colab\"/></a>"
      ]
    },
    {
      "cell_type": "markdown",
      "metadata": {
        "id": "f3NA2Isf4qiK"
      },
      "source": [
        "*This notebook is part of  course materials for CS 345: Machine Learning Foundations and Practice at Colorado State University.\n",
        "Original versions were created by Ben Sattelberg and Asa Ben-Hur.\n",
        "The content is availabe [on GitHub](https://github.com/asabenhur/CS345).*\n",
        "\n",
        "*The text is released under the [CC BY-SA license](https://creativecommons.org/licenses/by-sa/4.0/), and code is released under the [MIT license](https://opensource.org/licenses/MIT).*"
      ]
    },
    {
      "cell_type": "code",
      "execution_count": 2,
      "metadata": {
        "id": "CEPhYmJV4qiM"
      },
      "outputs": [],
      "source": [
        "import numpy as np\n",
        "import keras\n",
        "import matplotlib.pyplot as plt"
      ]
    },
    {
      "cell_type": "markdown",
      "metadata": {
        "id": "2mXZ1NqR4qiM"
      },
      "source": [
        "# Neural Networks"
      ]
    },
    {
      "cell_type": "markdown",
      "metadata": {
        "id": "XNROhCOu4qiM"
      },
      "source": [
        "### Preface:  enabling GPUs on google colab\n",
        "\n",
        "Until now we ran our neural networks on a CPU.  If you are running this notebook on google colab, you are in luck - google colab will allow you to run your code on a GPU.  Enabling a GPU is very simple:  All you need to do is navigate to Edit→Notebook Settings and select GPU from the Hardware Accelerator drop-down menu (also available from the Runtime menu).\n",
        "This [colab notebook](https://colab.research.google.com/notebooks/gpu.ipynb) has instructions for verifying that you are using a GPU and see the resulting speedup.\n"
      ]
    },
    {
      "cell_type": "markdown",
      "metadata": {
        "id": "GLwifSvk4qiN"
      },
      "source": [
        "## The MNIST dataset"
      ]
    },
    {
      "cell_type": "markdown",
      "metadata": {
        "id": "7csC7XGq4qiN"
      },
      "source": [
        "In the previous notebooks we used Keras to solve toy problems and built some understanding of how the networks are solving those problems.  In this notebook, we'll look at the real (but still relatively easy) problem of handwritten digit recognition.  We will be using the MNIST (modified National Institute of Standards and Technology) database which has images taken from a NIST database of handwritten digits and modified by Yann Lecun, Corinna Cortes, and Christopher J.C. Burges to be more easily used in machine learning.\n",
        "\n",
        "While no longer useful for demonstrating state-of-the-art advancments in machine learning, as a dataset, it will live on for a long time as both a teaching tools (see this lecture) and also some degree as a testbed for ideas aimed at better explaining the behavior of machine learning algorithms.  There is a good [Wikipedia article](https://en.wikipedia.org/wiki/MNIST_database) describing the dataset, which has been used in thousands of machine learning publications.\n",
        "\n",
        "The first thing we need to do is to load the dataset.  Fortunately, Keras does this work for us:"
      ]
    },
    {
      "cell_type": "code",
      "execution_count": 3,
      "metadata": {
        "id": "V30ZIx424qiN",
        "outputId": "6b774d31-aaf0-45ab-858e-fdb284729f26",
        "colab": {
          "base_uri": "https://localhost:8080/"
        }
      },
      "outputs": [
        {
          "output_type": "stream",
          "name": "stdout",
          "text": [
            "Downloading data from https://storage.googleapis.com/tensorflow/tf-keras-datasets/mnist.npz\n",
            "11490434/11490434 [==============================] - 0s 0us/step\n"
          ]
        }
      ],
      "source": [
        "# This will download an 11.5 MB file to ~/.keras/datasets/\n",
        "(X_train, y_train), (X_test, y_test) = keras.datasets.mnist.load_data()"
      ]
    },
    {
      "cell_type": "markdown",
      "metadata": {
        "id": "ZOonG9n44qiN"
      },
      "source": [
        "Let's get some information about the dataset:"
      ]
    },
    {
      "cell_type": "code",
      "execution_count": 4,
      "metadata": {
        "id": "H-zGYstS4qiN",
        "outputId": "119f03dd-3094-41f9-f385-e81b26d2cbfc",
        "colab": {
          "base_uri": "https://localhost:8080/"
        }
      },
      "outputs": [
        {
          "output_type": "stream",
          "name": "stdout",
          "text": [
            "(60000, 28, 28) (60000,)\n",
            "0 9\n"
          ]
        }
      ],
      "source": [
        "print(X_train.shape, y_train.shape)\n",
        "print(min(y_train), max(y_train))"
      ]
    },
    {
      "cell_type": "markdown",
      "metadata": {
        "id": "Fn4mN2-14qiN"
      },
      "source": [
        "This tells that we have 60,000 input images, each of which is 28x28 pixels.  The labels are, unsuprisingly for a database of digits, the numbers 0 through 9, corresponding to which digit the image represents.  Now let's look at the test set:"
      ]
    },
    {
      "cell_type": "code",
      "execution_count": 5,
      "metadata": {
        "id": "D3KU__4B4qiN",
        "outputId": "7aa8ca4a-8ded-460e-84c8-6a46468b3dc9",
        "colab": {
          "base_uri": "https://localhost:8080/"
        }
      },
      "outputs": [
        {
          "output_type": "stream",
          "name": "stdout",
          "text": [
            "(10000, 28, 28)\n",
            "(10000,)\n"
          ]
        }
      ],
      "source": [
        "print(X_test.shape)\n",
        "print(y_test.shape)"
      ]
    },
    {
      "cell_type": "markdown",
      "metadata": {
        "id": "2ig0Gm--4qiN"
      },
      "source": [
        "Here we have 10,000 samples with the same format as the training set."
      ]
    },
    {
      "cell_type": "markdown",
      "metadata": {
        "id": "v22PzXcg4qiN"
      },
      "source": [
        "Let's look at one of the images:"
      ]
    },
    {
      "cell_type": "code",
      "execution_count": 6,
      "metadata": {
        "id": "3gduUB7K4qiN",
        "outputId": "2f49229c-6aab-4ff1-a31d-a0fbdd69d227",
        "colab": {
          "base_uri": "https://localhost:8080/",
          "height": 513
        }
      },
      "outputs": [
        {
          "output_type": "display_data",
          "data": {
            "text/plain": [
              "<Figure size 600x600 with 2 Axes>"
            ],
            "image/png": "[encoded data removed]"
          },
          "metadata": {}
        }
      ],
      "source": [
        "fig, ax = plt.subplots(1,1,figsize=(6,6))\n",
        "pick = 7\n",
        "im = ax.imshow(X_train[pick, :, :], cmap='Greys')\n",
        "ax.set_title(\"Digit Label: \" + str(y_train[pick]),fontsize=20)\n",
        "cbar = fig.colorbar(im)\n",
        "cbar.set_ticks([0, 128, 255])\n",
        "ax.set_xticks([0, 14, 27])\n",
        "ax.set_yticks([0, 14, 27]);"
      ]
    },
    {
      "cell_type": "markdown",
      "metadata": {
        "id": "ZOtQyScz4qiN"
      },
      "source": [
        "Here we can see that the image is a grayscale 28x28 image with pixel values between 0 and 255.  We can also look at a few other images in the dataset:"
      ]
    },
    {
      "cell_type": "code",
      "execution_count": 7,
      "metadata": {
        "id": "04U_Bxec4qiN",
        "outputId": "06437a34-18e3-42f3-aa3f-5ba70c2d0c45",
        "colab": {
          "base_uri": "https://localhost:8080/",
          "height": 829
        }
      },
      "outputs": [
        {
          "output_type": "display_data",
          "data": {
            "text/plain": [
              "<Figure size 1000x1000 with 25 Axes>"
            ],
            "image/png": "[encoded data removed]"
          },
          "metadata": {}
        }
      ],
      "source": [
        "fig, axes = plt.subplots(5, 5, figsize=(10,10))\n",
        "\n",
        "for i in range(5):\n",
        "    for j in range(5):\n",
        "        axes[i,j].imshow(X_train[i*5 + j, :, :].reshape(28,28), cmap='Greys')\n",
        "        axes[i,j].set_title(y_train[i*5+j])\n",
        "        axes[i,j].axis('off')"
      ]
    },
    {
      "cell_type": "markdown",
      "metadata": {
        "id": "5WangwgC4qiO"
      },
      "source": [
        "There are a few things we want to do to the input data before we use it.  The first is to convert it to 32 bit floats:"
      ]
    },
    {
      "cell_type": "code",
      "execution_count": 8,
      "metadata": {
        "id": "iFmoP1zH4qiO"
      },
      "outputs": [],
      "source": [
        "X_train = X_train.astype('float32')\n",
        "X_test = X_test.astype('float32')"
      ]
    },
    {
      "cell_type": "markdown",
      "metadata": {
        "id": "wxDxmvJT4qiO"
      },
      "source": [
        "We also want to change the range of the data from integers between 0 and 255 to numbers between 0 and 1 to help with training:"
      ]
    },
    {
      "cell_type": "code",
      "execution_count": 9,
      "metadata": {
        "id": "mF1plbCX4qiO"
      },
      "outputs": [],
      "source": [
        "X_train /= 255\n",
        "X_test /= 255"
      ]
    },
    {
      "cell_type": "markdown",
      "metadata": {
        "id": "AFbn9mWU4qiO"
      },
      "source": [
        "The last step, which is less obvious, is to reshape the actual data to have an extra dimension:"
      ]
    },
    {
      "cell_type": "code",
      "execution_count": 10,
      "metadata": {
        "id": "2Pq3NZFU4qiO"
      },
      "outputs": [],
      "source": [
        "X_train = X_train.reshape(-1, 28, 28, 1)\n",
        "X_test = X_test.reshape(-1, 28, 28, 1)"
      ]
    },
    {
      "cell_type": "markdown",
      "metadata": {
        "id": "uZ9bCzq94qiO"
      },
      "source": [
        "This dimension corresponds to the number of \"channels\" in the image.  This data is grayscale, but color images are typically stored in RGB (red, green, blue) format, where there the three channels describe the amount of red, green, and blue at each pixel.  Keras is designed to handle images as a native data format without needing to \"flatten\" the images into vectors as a preprocessing step.\n",
        "\n",
        "We will also convert the `y_train` and `y_test` to a one-hot encoding:"
      ]
    },
    {
      "cell_type": "code",
      "execution_count": 11,
      "metadata": {
        "id": "7TwkUvDE4qiO"
      },
      "outputs": [],
      "source": [
        "y_train_one_hot = keras.utils.to_categorical(y_train, 10)\n",
        "y_test_one_hot = keras.utils.to_categorical(y_test, 10)"
      ]
    },
    {
      "cell_type": "markdown",
      "metadata": {
        "id": "E-APTf8B4qiO"
      },
      "source": [
        "We have reviewed one hot encoding several times, but just to keep in clear in everyone's mind, here we print out the original training signal (y vector) and the one hot encoding equivalent."
      ]
    },
    {
      "cell_type": "code",
      "execution_count": 12,
      "metadata": {
        "id": "k3zjJ24E4qiO",
        "outputId": "f391a1af-3691-42de-a316-e61577b4ae14",
        "colab": {
          "base_uri": "https://localhost:8080/"
        }
      },
      "outputs": [
        {
          "output_type": "stream",
          "name": "stdout",
          "text": [
            "sample 0: 7, [0, 0, 0, 0, 0, 0, 0, 1, 0, 0]\n",
            "sample 1: 2, [0, 0, 1, 0, 0, 0, 0, 0, 0, 0]\n",
            "sample 2: 1, [0, 1, 0, 0, 0, 0, 0, 0, 0, 0]\n",
            "sample 3: 0, [1, 0, 0, 0, 0, 0, 0, 0, 0, 0]\n",
            "sample 4: 4, [0, 0, 0, 0, 1, 0, 0, 0, 0, 0]\n",
            "sample 5: 1, [0, 1, 0, 0, 0, 0, 0, 0, 0, 0]\n",
            "sample 6: 4, [0, 0, 0, 0, 1, 0, 0, 0, 0, 0]\n",
            "sample 7: 9, [0, 0, 0, 0, 0, 0, 0, 0, 0, 1]\n",
            "sample 8: 5, [0, 0, 0, 0, 0, 1, 0, 0, 0, 0]\n",
            "sample 9: 9, [0, 0, 0, 0, 0, 0, 0, 0, 0, 1]\n"
          ]
        }
      ],
      "source": [
        "bnd=10\n",
        "for i in range(bnd) :\n",
        "    foo = [round(x) for x in y_test_one_hot[i]]\n",
        "    print(f'sample {i}: {y_test[i]}, {foo}')"
      ]
    },
    {
      "cell_type": "markdown",
      "metadata": {
        "id": "O_Y-cHTl4qiO"
      },
      "source": [
        "### Baseline model:  no hidden layers\n",
        "\n",
        "The first experiment we will do with this dataset is to test a simple linear model to get a baseline for how good we can expect our models to be.  We will use Keras for this, and simply not have any hidden layers in our network.\n",
        "\n",
        "In addition to the accuracy on the training set, we want to keep track of the accuracy on the testing set.  One way to do this with Keras is with a callback function that keeps track of the accuracy on the testing set as we progress through it.  It isn't necessary to understand the code here, but it is good to be aware of the goal of this structure."
      ]
    },
    {
      "cell_type": "code",
      "execution_count": 16,
      "metadata": {
        "id": "byqTvyuF4qiO"
      },
      "outputs": [],
      "source": [
        "# Structure based on https://github.com/keras-team/keras/issues/2548\n",
        "class EvaluateCallback(keras.callbacks.Callback):\n",
        "    def __init__(self, test_data):\n",
        "        self.test_data = test_data\n",
        "\n",
        "    def on_epoch_end(self, epoch, logs):\n",
        "        x, y = self.test_data\n",
        "        loss, acc = self.model.evaluate(x, y, verbose=0)\n",
        "        if 'test loss' not in logs:\n",
        "            logs['test loss'] = 0\n",
        "            logs['test acc'] = 0\n",
        "        logs['test loss'] += loss\n",
        "        logs['test acc'] += acc\n",
        "        print('\\nTesting loss: {}, acc: {}'.format(round(loss, 4), round(acc, 4)))\n"
      ]
    },
    {
      "cell_type": "markdown",
      "metadata": {
        "id": "-17KvXr04qiO"
      },
      "source": [
        "We can now train our model.  One layer to notice is the ```Flatten()``` layer.  This layer converts the data from a 28x28x1 dimensional image to a 784=28\\*28\\*1 dimensional vector.\n",
        "\n",
        "Also note the activation argument 'softmax' in the output layer. Recall from our previous notebook that there are two things notable about using softmax:\n",
        "\n",
        "- The sum of the activiations, in our case ten output units, after softmax, will be forced to equal 1.0\n",
        "- Most of the 'mass' will naturally be shifted to the unit with the largest input excitation."
      ]
    },
    {
      "cell_type": "code",
      "execution_count": 17,
      "metadata": {
        "scrolled": true,
        "id": "MCCak8_A4qiO",
        "outputId": "730b130d-250a-4f6c-a2d9-879d4734faf1",
        "colab": {
          "base_uri": "https://localhost:8080/"
        }
      },
      "outputs": [
        {
          "output_type": "stream",
          "name": "stdout",
          "text": [
            "Epoch 1/20\n",
            "589/600 [============================>.] - ETA: 0s - loss: 0.6292 - accuracy: 0.8429\n",
            "Testing loss: 0.367, acc: 0.9057\n",
            "600/600 [==============================] - 3s 4ms/step - loss: 0.6242 - accuracy: 0.8441 - test loss: 0.3670 - test acc: 0.9057\n",
            "Epoch 2/20\n",
            "579/600 [===========================>..] - ETA: 0s - loss: 0.3482 - accuracy: 0.9054\n",
            "Testing loss: 0.3109, acc: 0.9136\n",
            "600/600 [==============================] - 2s 3ms/step - loss: 0.3473 - accuracy: 0.9057 - test loss: 0.3109 - test acc: 0.9136\n",
            "Epoch 3/20\n",
            "583/600 [============================>.] - ETA: 0s - loss: 0.3105 - accuracy: 0.9145\n",
            "Testing loss: 0.2913, acc: 0.9186\n",
            "600/600 [==============================] - 2s 3ms/step - loss: 0.3097 - accuracy: 0.9146 - test loss: 0.2913 - test acc: 0.9186\n",
            "Epoch 4/20\n",
            "578/600 [===========================>..] - ETA: 0s - loss: 0.2931 - accuracy: 0.9185\n",
            "Testing loss: 0.284, acc: 0.9217\n",
            "600/600 [==============================] - 2s 3ms/step - loss: 0.2923 - accuracy: 0.9187 - test loss: 0.2840 - test acc: 0.9217\n",
            "Epoch 5/20\n",
            "583/600 [============================>.] - ETA: 0s - loss: 0.2819 - accuracy: 0.9210\n",
            "Testing loss: 0.2751, acc: 0.9228\n",
            "600/600 [==============================] - 2s 3ms/step - loss: 0.2823 - accuracy: 0.9209 - test loss: 0.2751 - test acc: 0.9228\n",
            "Epoch 6/20\n",
            "599/600 [============================>.] - ETA: 0s - loss: 0.2748 - accuracy: 0.9230\n",
            "Testing loss: 0.272, acc: 0.9238\n",
            "600/600 [==============================] - 2s 4ms/step - loss: 0.2748 - accuracy: 0.9230 - test loss: 0.2720 - test acc: 0.9238\n",
            "Epoch 7/20\n",
            "597/600 [============================>.] - ETA: 0s - loss: 0.2691 - accuracy: 0.9244\n",
            "Testing loss: 0.2707, acc: 0.9235\n",
            "600/600 [==============================] - 2s 3ms/step - loss: 0.2694 - accuracy: 0.9244 - test loss: 0.2707 - test acc: 0.9235\n",
            "Epoch 8/20\n",
            "581/600 [============================>.] - ETA: 0s - loss: 0.2660 - accuracy: 0.9259\n",
            "Testing loss: 0.2665, acc: 0.9255\n",
            "600/600 [==============================] - 2s 3ms/step - loss: 0.2653 - accuracy: 0.9263 - test loss: 0.2665 - test acc: 0.9255\n",
            "Epoch 9/20\n",
            "585/600 [============================>.] - ETA: 0s - loss: 0.2621 - accuracy: 0.9269\n",
            "Testing loss: 0.2683, acc: 0.9261\n",
            "600/600 [==============================] - 2s 3ms/step - loss: 0.2619 - accuracy: 0.9269 - test loss: 0.2683 - test acc: 0.9261\n",
            "Epoch 10/20\n",
            "591/600 [============================>.] - ETA: 0s - loss: 0.2598 - accuracy: 0.9274\n",
            "Testing loss: 0.2646, acc: 0.9261\n",
            "600/600 [==============================] - 2s 3ms/step - loss: 0.2597 - accuracy: 0.9276 - test loss: 0.2646 - test acc: 0.9261\n",
            "Epoch 11/20\n",
            "599/600 [============================>.] - ETA: 0s - loss: 0.2570 - accuracy: 0.9287\n",
            "Testing loss: 0.2643, acc: 0.9267\n",
            "600/600 [==============================] - 2s 3ms/step - loss: 0.2569 - accuracy: 0.9287 - test loss: 0.2643 - test acc: 0.9267\n",
            "Epoch 12/20\n",
            "583/600 [============================>.] - ETA: 0s - loss: 0.2533 - accuracy: 0.9292\n",
            "Testing loss: 0.263, acc: 0.9266\n",
            "600/600 [==============================] - 2s 3ms/step - loss: 0.2546 - accuracy: 0.9291 - test loss: 0.2630 - test acc: 0.9266\n",
            "Epoch 13/20\n",
            "593/600 [============================>.] - ETA: 0s - loss: 0.2538 - accuracy: 0.9299\n",
            "Testing loss: 0.2623, acc: 0.9289\n",
            "600/600 [==============================] - 2s 4ms/step - loss: 0.2530 - accuracy: 0.9301 - test loss: 0.2623 - test acc: 0.9289\n",
            "Epoch 14/20\n",
            "581/600 [============================>.] - ETA: 0s - loss: 0.2516 - accuracy: 0.9301\n",
            "Testing loss: 0.2622, acc: 0.9276\n",
            "600/600 [==============================] - 2s 3ms/step - loss: 0.2512 - accuracy: 0.9301 - test loss: 0.2622 - test acc: 0.9276\n",
            "Epoch 15/20\n",
            "593/600 [============================>.] - ETA: 0s - loss: 0.2490 - accuracy: 0.9315\n",
            "Testing loss: 0.2635, acc: 0.9272\n",
            "600/600 [==============================] - 2s 3ms/step - loss: 0.2497 - accuracy: 0.9313 - test loss: 0.2635 - test acc: 0.9272\n",
            "Epoch 16/20\n",
            "574/600 [===========================>..] - ETA: 0s - loss: 0.2479 - accuracy: 0.9316\n",
            "Testing loss: 0.2632, acc: 0.927\n",
            "600/600 [==============================] - 2s 3ms/step - loss: 0.2482 - accuracy: 0.9316 - test loss: 0.2632 - test acc: 0.9270\n",
            "Epoch 17/20\n",
            "600/600 [==============================] - ETA: 0s - loss: 0.2470 - accuracy: 0.9321\n",
            "Testing loss: 0.2616, acc: 0.9285\n",
            "600/600 [==============================] - 2s 3ms/step - loss: 0.2470 - accuracy: 0.9321 - test loss: 0.2616 - test acc: 0.9285\n",
            "Epoch 18/20\n",
            "597/600 [============================>.] - ETA: 0s - loss: 0.2463 - accuracy: 0.9320\n",
            "Testing loss: 0.2619, acc: 0.9282\n",
            "600/600 [==============================] - 2s 3ms/step - loss: 0.2462 - accuracy: 0.9320 - test loss: 0.2619 - test acc: 0.9282\n",
            "Epoch 19/20\n",
            "592/600 [============================>.] - ETA: 0s - loss: 0.2450 - accuracy: 0.9323\n",
            "Testing loss: 0.2622, acc: 0.9272\n",
            "600/600 [==============================] - 2s 4ms/step - loss: 0.2452 - accuracy: 0.9322 - test loss: 0.2622 - test acc: 0.9272\n",
            "Epoch 20/20\n",
            "596/600 [============================>.] - ETA: 0s - loss: 0.2444 - accuracy: 0.9324\n",
            "Testing loss: 0.2646, acc: 0.9262\n",
            "600/600 [==============================] - 4s 7ms/step - loss: 0.2443 - accuracy: 0.9324 - test loss: 0.2646 - test acc: 0.9262\n"
          ]
        }
      ],
      "source": [
        "linear_model = keras.Sequential()\n",
        "linear_model.add(keras.layers.Flatten())\n",
        "linear_model.add(keras.layers.Dense(10, activation='softmax'))\n",
        "loss_fn = keras.losses.CategoricalCrossentropy()\n",
        "opt = keras.optimizers.Adam()\n",
        "\n",
        "linear_model.compile(loss=loss_fn, optimizer=opt, metrics=['accuracy'])\n",
        "linear_history = linear_model.fit(X_train, y_train_one_hot,\n",
        "                                  batch_size=100, epochs=20,\n",
        "                                  verbose=1, callbacks=[EvaluateCallback((X_test, y_test_one_hot))])"
      ]
    },
    {
      "cell_type": "code",
      "execution_count": null,
      "metadata": {
        "id": "NMPdAH8J4qiO",
        "outputId": "d8bf27ce-d292-4112-d4ed-4f278dcd4833",
        "colab": {
          "base_uri": "https://localhost:8080/"
        }
      },
      "outputs": [
        {
          "output_type": "stream",
          "name": "stdout",
          "text": [
            "Final loss: 0.2634, test accuracy: 0.9284\n"
          ]
        }
      ],
      "source": [
        "print('Final loss: {}, test accuracy: {}'.format(*map(lambda x: round(x, 4), linear_model.evaluate(X_test, y_test_one_hot, verbose=0))))"
      ]
    },
    {
      "cell_type": "markdown",
      "metadata": {
        "id": "QYalqoCW4qiO"
      },
      "source": [
        "We can look at the summary of this model - the main thing to note here is the number of parameters:"
      ]
    },
    {
      "cell_type": "code",
      "execution_count": null,
      "metadata": {
        "id": "CqB9ve3O4qiP",
        "outputId": "dab9a741-9073-4974-ac56-ce1a936acb50",
        "colab": {
          "base_uri": "https://localhost:8080/"
        }
      },
      "outputs": [
        {
          "output_type": "stream",
          "name": "stdout",
          "text": [
            "Model: \"sequential_29\"\n",
            "_________________________________________________________________\n",
            " Layer (type)                Output Shape              Param #   \n",
            "=================================================================\n",
            " flatten_29 (Flatten)        (None, 784)               0         \n",
            "                                                                 \n",
            " dense_29 (Dense)            (None, 10)                7850      \n",
            "                                                                 \n",
            "=================================================================\n",
            "Total params: 7850 (30.66 KB)\n",
            "Trainable params: 7850 (30.66 KB)\n",
            "Non-trainable params: 0 (0.00 Byte)\n",
            "_________________________________________________________________\n"
          ]
        }
      ],
      "source": [
        "linear_model.summary()"
      ]
    },
    {
      "cell_type": "markdown",
      "metadata": {
        "id": "QZOvSBK84qiP"
      },
      "source": [
        "We can also look at the accuracy over the epochs of the network:"
      ]
    },
    {
      "cell_type": "code",
      "execution_count": null,
      "metadata": {
        "id": "bUTeNvDi4qiP",
        "outputId": "b14a6bf4-5144-4adc-a6b4-22dd9f879f0f",
        "colab": {
          "base_uri": "https://localhost:8080/",
          "height": 455
        }
      },
      "outputs": [
        {
          "output_type": "display_data",
          "data": {
            "text/plain": [
              "<Figure size 640x480 with 1 Axes>"
            ],
            "image/png": "[encoded data removed]"
          },
          "metadata": {}
        }
      ],
      "source": [
        "plt.plot(linear_history.history['accuracy'], label='Train')\n",
        "plt.plot(linear_history.history['test acc'], label='Test')\n",
        "plt.xlabel('Epoch')\n",
        "plt.ylabel('Accuracy')\n",
        "plt.legend()\n",
        "plt.ylim([0.85, 1]);"
      ]
    },
    {
      "cell_type": "markdown",
      "metadata": {
        "id": "fEk0rJjQ4qiP"
      },
      "source": [
        "We can see that even a simple linear classifier gets about 92% accuracy.  MNIST is commonly used as a tutorial dataset, and one of the reasons for that is that basically anything will be successful on it.  The dataset is also solved - methods exist that do better than human accuracy and will reach around 99.9% accuracy (i.e 10 samples out of the 10,000 misclassified)."
      ]
    },
    {
      "cell_type": "markdown",
      "metadata": {
        "id": "DZPuqiE84qiP"
      },
      "source": [
        "## An MNIST network"
      ]
    },
    {
      "cell_type": "markdown",
      "metadata": {
        "id": "eYeKgqzH4qiP"
      },
      "source": [
        "Now let's train a more interesting neural network on this problem.  We'll start with a single hidden layer with 128 nodes:"
      ]
    },
    {
      "cell_type": "code",
      "execution_count": 18,
      "metadata": {
        "scrolled": true,
        "id": "uQXxj47B4qiT",
        "outputId": "e10fcfc3-0139-4810-eb6c-01f0e1dbb0d7",
        "colab": {
          "base_uri": "https://localhost:8080/"
        }
      },
      "outputs": [
        {
          "output_type": "stream",
          "name": "stdout",
          "text": [
            "Epoch 1/20\n",
            "591/600 [============================>.] - ETA: 0s - loss: 0.3594 - accuracy: 0.9033\n",
            "Testing loss: 0.1998, acc: 0.9407\n",
            "600/600 [==============================] - 4s 6ms/step - loss: 0.3574 - accuracy: 0.9039 - test loss: 0.1998 - test acc: 0.9407\n",
            "Epoch 2/20\n",
            "590/600 [============================>.] - ETA: 0s - loss: 0.1703 - accuracy: 0.9518\n",
            "Testing loss: 0.1487, acc: 0.9563\n",
            "600/600 [==============================] - 2s 4ms/step - loss: 0.1700 - accuracy: 0.9519 - test loss: 0.1487 - test acc: 0.9563\n",
            "Epoch 3/20\n",
            "599/600 [============================>.] - ETA: 0s - loss: 0.1238 - accuracy: 0.9638\n",
            "Testing loss: 0.1184, acc: 0.9651\n",
            "600/600 [==============================] - 3s 5ms/step - loss: 0.1237 - accuracy: 0.9639 - test loss: 0.1184 - test acc: 0.9651\n",
            "Epoch 4/20\n",
            "584/600 [============================>.] - ETA: 0s - loss: 0.0975 - accuracy: 0.9717\n",
            "Testing loss: 0.1044, acc: 0.969\n",
            "600/600 [==============================] - 2s 4ms/step - loss: 0.0976 - accuracy: 0.9717 - test loss: 0.1044 - test acc: 0.9690\n",
            "Epoch 5/20\n",
            "593/600 [============================>.] - ETA: 0s - loss: 0.0796 - accuracy: 0.9765\n",
            "Testing loss: 0.0969, acc: 0.9709\n",
            "600/600 [==============================] - 2s 4ms/step - loss: 0.0795 - accuracy: 0.9765 - test loss: 0.0969 - test acc: 0.9709\n",
            "Epoch 6/20\n",
            "599/600 [============================>.] - ETA: 0s - loss: 0.0665 - accuracy: 0.9808\n",
            "Testing loss: 0.0921, acc: 0.9713\n",
            "600/600 [==============================] - 2s 4ms/step - loss: 0.0664 - accuracy: 0.9809 - test loss: 0.0921 - test acc: 0.9713\n",
            "Epoch 7/20\n",
            "591/600 [============================>.] - ETA: 0s - loss: 0.0552 - accuracy: 0.9841\n",
            "Testing loss: 0.0861, acc: 0.9741\n",
            "600/600 [==============================] - 2s 4ms/step - loss: 0.0550 - accuracy: 0.9842 - test loss: 0.0861 - test acc: 0.9741\n",
            "Epoch 8/20\n",
            "588/600 [============================>.] - ETA: 0s - loss: 0.0472 - accuracy: 0.9865\n",
            "Testing loss: 0.0896, acc: 0.9724\n",
            "600/600 [==============================] - 3s 5ms/step - loss: 0.0469 - accuracy: 0.9867 - test loss: 0.0896 - test acc: 0.9724\n",
            "Epoch 9/20\n",
            "594/600 [============================>.] - ETA: 0s - loss: 0.0404 - accuracy: 0.9885\n",
            "Testing loss: 0.08, acc: 0.9754\n",
            "600/600 [==============================] - 2s 4ms/step - loss: 0.0406 - accuracy: 0.9884 - test loss: 0.0800 - test acc: 0.9754\n",
            "Epoch 10/20\n",
            "593/600 [============================>.] - ETA: 0s - loss: 0.0349 - accuracy: 0.9905\n",
            "Testing loss: 0.0836, acc: 0.9733\n",
            "600/600 [==============================] - 2s 4ms/step - loss: 0.0348 - accuracy: 0.9905 - test loss: 0.0836 - test acc: 0.9733\n",
            "Epoch 11/20\n",
            "590/600 [============================>.] - ETA: 0s - loss: 0.0292 - accuracy: 0.9920\n",
            "Testing loss: 0.0884, acc: 0.9726\n",
            "600/600 [==============================] - 3s 5ms/step - loss: 0.0295 - accuracy: 0.9919 - test loss: 0.0884 - test acc: 0.9726\n",
            "Epoch 12/20\n",
            "595/600 [============================>.] - ETA: 0s - loss: 0.0257 - accuracy: 0.9934\n",
            "Testing loss: 0.0841, acc: 0.9758\n",
            "600/600 [==============================] - 3s 5ms/step - loss: 0.0258 - accuracy: 0.9934 - test loss: 0.0841 - test acc: 0.9758\n",
            "Epoch 13/20\n",
            "584/600 [============================>.] - ETA: 0s - loss: 0.0222 - accuracy: 0.9941\n",
            "Testing loss: 0.0765, acc: 0.9771\n",
            "600/600 [==============================] - 2s 4ms/step - loss: 0.0224 - accuracy: 0.9940 - test loss: 0.0765 - test acc: 0.9771\n",
            "Epoch 14/20\n",
            "599/600 [============================>.] - ETA: 0s - loss: 0.0186 - accuracy: 0.9954\n",
            "Testing loss: 0.0976, acc: 0.9729\n",
            "600/600 [==============================] - 2s 4ms/step - loss: 0.0186 - accuracy: 0.9954 - test loss: 0.0976 - test acc: 0.9729\n",
            "Epoch 15/20\n",
            "599/600 [============================>.] - ETA: 0s - loss: 0.0165 - accuracy: 0.9960\n",
            "Testing loss: 0.0844, acc: 0.9755\n",
            "600/600 [==============================] - 2s 4ms/step - loss: 0.0165 - accuracy: 0.9960 - test loss: 0.0844 - test acc: 0.9755\n",
            "Epoch 16/20\n",
            "590/600 [============================>.] - ETA: 0s - loss: 0.0150 - accuracy: 0.9961\n",
            "Testing loss: 0.0824, acc: 0.9761\n",
            "600/600 [==============================] - 2s 4ms/step - loss: 0.0151 - accuracy: 0.9961 - test loss: 0.0824 - test acc: 0.9761\n",
            "Epoch 17/20\n",
            "600/600 [==============================] - ETA: 0s - loss: 0.0122 - accuracy: 0.9974\n",
            "Testing loss: 0.088, acc: 0.9768\n",
            "600/600 [==============================] - 4s 6ms/step - loss: 0.0122 - accuracy: 0.9974 - test loss: 0.0880 - test acc: 0.9768\n",
            "Epoch 18/20\n",
            "583/600 [============================>.] - ETA: 0s - loss: 0.0105 - accuracy: 0.9977\n",
            "Testing loss: 0.0852, acc: 0.9765\n",
            "600/600 [==============================] - 2s 4ms/step - loss: 0.0107 - accuracy: 0.9977 - test loss: 0.0852 - test acc: 0.9765\n",
            "Epoch 19/20\n",
            "596/600 [============================>.] - ETA: 0s - loss: 0.0096 - accuracy: 0.9980\n",
            "Testing loss: 0.091, acc: 0.9747\n",
            "600/600 [==============================] - 2s 4ms/step - loss: 0.0095 - accuracy: 0.9980 - test loss: 0.0910 - test acc: 0.9747\n",
            "Epoch 20/20\n",
            "598/600 [============================>.] - ETA: 0s - loss: 0.0078 - accuracy: 0.9987\n",
            "Testing loss: 0.0884, acc: 0.9773\n",
            "600/600 [==============================] - 2s 4ms/step - loss: 0.0078 - accuracy: 0.9987 - test loss: 0.0884 - test acc: 0.9773\n"
          ]
        }
      ],
      "source": [
        "network = keras.Sequential()\n",
        "network.add(keras.layers.Flatten())\n",
        "network.add(keras.layers.Dense(100, activation='relu'))\n",
        "network.add(keras.layers.Dense(10, activation='softmax'))\n",
        "loss_fn = keras.losses.CategoricalCrossentropy()\n",
        "opt = keras.optimizers.Adam()\n",
        "\n",
        "network.compile(loss=loss_fn, optimizer=opt, metrics=['accuracy'])\n",
        "history = network.fit(X_train, y_train_one_hot, batch_size=100,\n",
        "                      epochs=20, verbose=1,\n",
        "                      callbacks=[EvaluateCallback((X_test, keras.utils.to_categorical(y_test, 10)))])"
      ]
    },
    {
      "cell_type": "code",
      "execution_count": null,
      "metadata": {
        "id": "xEZ2Ur2o4qiT",
        "outputId": "f713c1c7-dc79-4c12-f90b-bbeacf239b87",
        "colab": {
          "base_uri": "https://localhost:8080/"
        }
      },
      "outputs": [
        {
          "output_type": "stream",
          "name": "stdout",
          "text": [
            "Final loss: 0.0963, test accuracy: 0.9754\n"
          ]
        }
      ],
      "source": [
        "print('Final loss: {}, test accuracy: {}'.format(*map(lambda x: round(x, 4), network.evaluate(X_test, y_test_one_hot, verbose=0))))"
      ]
    },
    {
      "cell_type": "markdown",
      "metadata": {
        "id": "dYgUwo6p4qiT"
      },
      "source": [
        "The total number of parameters for this network is more than an order of magnitude higher than the linear model.  However, it does improve on the linear model's accuracy from 92% to about 97.5%."
      ]
    },
    {
      "cell_type": "code",
      "execution_count": null,
      "metadata": {
        "id": "2KIQqBRr4qiT",
        "outputId": "2cd79f4a-6550-4b4c-a5fc-6f5b805b1a6f",
        "colab": {
          "base_uri": "https://localhost:8080/"
        }
      },
      "outputs": [
        {
          "output_type": "stream",
          "name": "stdout",
          "text": [
            "Model: \"sequential_30\"\n",
            "_________________________________________________________________\n",
            " Layer (type)                Output Shape              Param #   \n",
            "=================================================================\n",
            " flatten_30 (Flatten)        (None, 784)               0         \n",
            "                                                                 \n",
            " dense_30 (Dense)            (None, 100)               78500     \n",
            "                                                                 \n",
            " dense_31 (Dense)            (None, 10)                1010      \n",
            "                                                                 \n",
            "=================================================================\n",
            "Total params: 79510 (310.59 KB)\n",
            "Trainable params: 79510 (310.59 KB)\n",
            "Non-trainable params: 0 (0.00 Byte)\n",
            "_________________________________________________________________\n"
          ]
        }
      ],
      "source": [
        "network.summary()"
      ]
    },
    {
      "cell_type": "markdown",
      "metadata": {
        "id": "cuisjrGy4qiT"
      },
      "source": [
        "The network also reaches nearly 100% accuracy on the training set, and continues improving on the training set after it plateaus in accuracy on the test set.  This is a sign that the network has found a solution to and that further training can potentially *reduce* the accuracy through overfitting."
      ]
    },
    {
      "cell_type": "code",
      "execution_count": null,
      "metadata": {
        "id": "-RxhNlwv4qiT",
        "outputId": "77ddac82-1cbc-4ad0-89df-20ee0870fa71",
        "colab": {
          "base_uri": "https://localhost:8080/",
          "height": 455
        }
      },
      "outputs": [
        {
          "output_type": "display_data",
          "data": {
            "text/plain": [
              "<Figure size 640x480 with 1 Axes>"
            ],
            "image/png": "[encoded data removed]"
          },
          "metadata": {}
        }
      ],
      "source": [
        "plt.plot(history.history['accuracy'], label='Train')\n",
        "plt.plot(history.history['test acc'], label='Test')\n",
        "plt.xlabel('Epoch')\n",
        "plt.ylabel('Accuracy')\n",
        "plt.legend()\n",
        "plt.ylim([0.85, 1]);"
      ]
    },
    {
      "cell_type": "markdown",
      "metadata": {
        "id": "hGKnSYq14qiU"
      },
      "source": [
        "Since there's the potential to overfit, and a large number of parameters, simply increasing the depth or the width of this network could potentially lead to issues.  Instead of going that route, we will use a different kind of layer in our next notebook that works well for images and introduce convolutional networks, which have become the standard architecture for image data.\n",
        "\n",
        "For reference, and to convince ourselves that we obtained good accuracy with our neural network let's try random forests:"
      ]
    },
    {
      "cell_type": "code",
      "execution_count": null,
      "metadata": {
        "id": "dh98xFST4qiU"
      },
      "outputs": [],
      "source": [
        "X_train_flat = X_train.reshape(-1, 784)\n",
        "X_test_flat = X_test.reshape(-1, 784)"
      ]
    },
    {
      "cell_type": "code",
      "execution_count": null,
      "metadata": {
        "id": "M-LXtj9D4qiU"
      },
      "outputs": [],
      "source": [
        "from sklearn.ensemble import RandomForestClassifier\n",
        "rf = RandomForestClassifier(n_estimators=500)\n",
        "rf.fit(X_train_flat, y_train);"
      ]
    },
    {
      "cell_type": "code",
      "execution_count": null,
      "metadata": {
        "id": "NQgDiBSQ4qiU",
        "outputId": "362bb4be-9b1d-483c-9bf1-3f1dd8dc24a3",
        "colab": {
          "base_uri": "https://localhost:8080/"
        }
      },
      "outputs": [
        {
          "output_type": "execute_result",
          "data": {
            "text/plain": [
              "0.9719"
            ]
          },
          "metadata": {},
          "execution_count": 63
        }
      ],
      "source": [
        "from sklearn.metrics import accuracy_score\n",
        "y_pred = rf.predict(X_test_flat)\n",
        "accuracy_score(y_pred, y_test)"
      ]
    },
    {
      "cell_type": "markdown",
      "metadata": {
        "id": "fE1mhitF4qiU"
      },
      "source": [
        "### Comments\n",
        "\n",
        "There are major issues in using feed-forward neural networks for image classification:\n",
        "\n",
        "* Fully connected networks can have very large numbers of parameters with increasing image sizes.  Consider for example images of size 228x228x3, which is standard in this field.  Using the network architecture we have here would result in 228\\*228\\*3\\*100 parameters from the input to the hidden layer - about 15,000,000.  This network would also not be successful - we would need to significantly increase the width and depth, compounding the issue.  It is likely that billions of parameters would be necessary to achieve good accuracy.\n",
        "* If we take an image that represents the number seven, and shift the seven over a few pixels, we would expect it to still be classified as a seven.  However, fully connected networks are not able to represent this invariance.\n",
        "\n",
        "Some of these concerns apply to other standard machine learning approaches as well.\n",
        "Convolutional networks which are introduced next, address these shortcomings, and have led to major improvements in accuracy in image classification tasks.  Their success has led to a renaissance of the field of neural networks."
      ]
    }
  ],
  "metadata": {
    "kernelspec": {
      "display_name": "Python 3 (ipykernel)",
      "language": "python",
      "name": "python3"
    },
    "language_info": {
      "codemirror_mode": {
        "name": "ipython",
        "version": 3
      },
      "file_extension": ".py",
      "mimetype": "text/x-python",
      "name": "python",
      "nbconvert_exporter": "python",
      "pygments_lexer": "ipython3",
      "version": "3.7.6"
    },
    "colab": {
      "provenance": [],
      "include_colab_link": true
    }
  },
  "nbformat": 4,
  "nbformat_minor": 0
}